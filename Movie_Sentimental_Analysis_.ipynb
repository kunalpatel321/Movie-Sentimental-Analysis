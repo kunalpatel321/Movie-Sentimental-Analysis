{
  "nbformat": 4,
  "nbformat_minor": 0,
  "metadata": {
    "colab": {
      "name": "Movie Sentimental Analysis .ipynb",
      "provenance": [],
      "collapsed_sections": []
    },
    "kernelspec": {
      "name": "python3",
      "display_name": "Python 3"
    },
    "accelerator": "TPU"
  },
  "cells": [
    {
      "cell_type": "markdown",
      "metadata": {
        "colab_type": "text",
        "id": "ecvA4rL-sKhK"
      },
      "source": [
        "**Movie Sentimental Analysis**"
      ]
    },
    {
      "cell_type": "markdown",
      "metadata": {
        "id": "7Os8cpLHsP4R",
        "colab_type": "text"
      },
      "source": [
        "**Source**:-https://www.kaggle.com/lakshmi25npathi/imdb-dataset-of-50k-movie-reviews\n",
        "\n",
        "IMDB dataset having 50K movie reviews for natural language processing or Text analytics.\n",
        "This is a dataset for binary sentiment classification containing substantially more data than previous benchmark datasets. We provide a set of 25,000 highly polar movie reviews for training and 25,000 for testing. So, predict the number of positive and negative reviews using either classification or deep learning algorithms.\n",
        "For more dataset information, please go through the following link,\n",
        "    http://ai.stanford.edu/~amaas/data/sentiment/\n",
        "\n",
        "**Objective**:-\n",
        "Given a review, determine whether the review is positive or negative\n",
        "\n",
        "**Attributes**:-\n",
        "\n",
        "1.Review-Text\n",
        "\n",
        "2.Sentiment-Positive or Negative\n",
        "\n",
        "\n",
        "\n"
      ]
    },
    {
      "cell_type": "code",
      "metadata": {
        "id": "EDAVohrFsL25",
        "colab_type": "code",
        "outputId": "f5d379fd-9e11-4453-9f6c-efe1f01835a4",
        "colab": {
          "base_uri": "https://localhost:8080/",
          "height": 34
        }
      },
      "source": [
        "\n",
        "from google.colab import drive\n",
        "drive.mount('/content/drive/')"
      ],
      "execution_count": 0,
      "outputs": [
        {
          "output_type": "stream",
          "text": [
            "Drive already mounted at /content/drive/; to attempt to forcibly remount, call drive.mount(\"/content/drive/\", force_remount=True).\n"
          ],
          "name": "stdout"
        }
      ]
    },
    {
      "cell_type": "code",
      "metadata": {
        "id": "MMj-VCk2lERX",
        "colab_type": "code",
        "colab": {}
      },
      "source": [
        "#Loading the essential Libraries\n",
        "import pandas as pd\n",
        "import numpy as np\n",
        "import nltk                             # nltk:- Natural Language Processing Toolkit\n",
        "import string\n",
        "import re\n",
        "import io\n",
        "import matplotlib.pyplot as plt\n",
        "import seaborn as sns\n",
        "from sklearn.feature_extraction.text import TfidfTransformer\n",
        "from sklearn.feature_extraction.text import TfidfVectorizer\n",
        "from sklearn.feature_extraction.text import CountVectorizer\n",
        "from sklearn.metrics import confusion_matrix\n",
        "from sklearn import metrics\n",
        "from sklearn.metrics import roc_curve, auc\n",
        "from nltk.stem.porter import PorterStemmer"
      ],
      "execution_count": 0,
      "outputs": []
    },
    {
      "cell_type": "code",
      "metadata": {
        "id": "MlvdSPWaks18",
        "colab_type": "code",
        "colab": {}
      },
      "source": [
        "data=pd.read_csv(\"/content/drive/My Drive/IMDB.csv\")"
      ],
      "execution_count": 0,
      "outputs": []
    },
    {
      "cell_type": "code",
      "metadata": {
        "id": "cXfDSIyRlCcw",
        "colab_type": "code",
        "outputId": "72984506-784b-4b5c-b6fc-af48fdac8e83",
        "colab": {
          "base_uri": "https://localhost:8080/",
          "height": 195
        }
      },
      "source": [
        "data.head()  # Top 5 Values"
      ],
      "execution_count": 0,
      "outputs": [
        {
          "output_type": "execute_result",
          "data": {
            "text/html": [
              "<div>\n",
              "<style scoped>\n",
              "    .dataframe tbody tr th:only-of-type {\n",
              "        vertical-align: middle;\n",
              "    }\n",
              "\n",
              "    .dataframe tbody tr th {\n",
              "        vertical-align: top;\n",
              "    }\n",
              "\n",
              "    .dataframe thead th {\n",
              "        text-align: right;\n",
              "    }\n",
              "</style>\n",
              "<table border=\"1\" class=\"dataframe\">\n",
              "  <thead>\n",
              "    <tr style=\"text-align: right;\">\n",
              "      <th></th>\n",
              "      <th>review</th>\n",
              "      <th>sentiment</th>\n",
              "    </tr>\n",
              "  </thead>\n",
              "  <tbody>\n",
              "    <tr>\n",
              "      <th>0</th>\n",
              "      <td>One of the other reviewers has mentioned that ...</td>\n",
              "      <td>positive</td>\n",
              "    </tr>\n",
              "    <tr>\n",
              "      <th>1</th>\n",
              "      <td>A wonderful little production. &lt;br /&gt;&lt;br /&gt;The...</td>\n",
              "      <td>positive</td>\n",
              "    </tr>\n",
              "    <tr>\n",
              "      <th>2</th>\n",
              "      <td>I thought this was a wonderful way to spend ti...</td>\n",
              "      <td>positive</td>\n",
              "    </tr>\n",
              "    <tr>\n",
              "      <th>3</th>\n",
              "      <td>Basically there's a family where a little boy ...</td>\n",
              "      <td>negative</td>\n",
              "    </tr>\n",
              "    <tr>\n",
              "      <th>4</th>\n",
              "      <td>Petter Mattei's \"Love in the Time of Money\" is...</td>\n",
              "      <td>positive</td>\n",
              "    </tr>\n",
              "  </tbody>\n",
              "</table>\n",
              "</div>"
            ],
            "text/plain": [
              "                                              review sentiment\n",
              "0  One of the other reviewers has mentioned that ...  positive\n",
              "1  A wonderful little production. <br /><br />The...  positive\n",
              "2  I thought this was a wonderful way to spend ti...  positive\n",
              "3  Basically there's a family where a little boy ...  negative\n",
              "4  Petter Mattei's \"Love in the Time of Money\" is...  positive"
            ]
          },
          "metadata": {
            "tags": []
          },
          "execution_count": 38
        }
      ]
    },
    {
      "cell_type": "code",
      "metadata": {
        "id": "JbQh3BkSlMVf",
        "colab_type": "code",
        "outputId": "6177f4d8-f59f-467a-fe9d-dc6d65b5cc4e",
        "colab": {
          "base_uri": "https://localhost:8080/",
          "height": 34
        }
      },
      "source": [
        "data.shape  # Data Shape (Rows And Columns)"
      ],
      "execution_count": 0,
      "outputs": [
        {
          "output_type": "execute_result",
          "data": {
            "text/plain": [
              "(50000, 2)"
            ]
          },
          "metadata": {
            "tags": []
          },
          "execution_count": 39
        }
      ]
    },
    {
      "cell_type": "code",
      "metadata": {
        "id": "y4qXTZLklOiN",
        "colab_type": "code",
        "outputId": "1a9ea22d-c179-4d39-8bbe-54580713d6be",
        "colab": {
          "base_uri": "https://localhost:8080/",
          "height": 67
        }
      },
      "source": [
        "data['sentiment'].value_counts()"
      ],
      "execution_count": 0,
      "outputs": [
        {
          "output_type": "execute_result",
          "data": {
            "text/plain": [
              "negative    25000\n",
              "positive    25000\n",
              "Name: sentiment, dtype: int64"
            ]
          },
          "metadata": {
            "tags": []
          },
          "execution_count": 40
        }
      ]
    },
    {
      "cell_type": "code",
      "metadata": {
        "id": "YONSLDpclbPR",
        "colab_type": "code",
        "colab": {}
      },
      "source": [
        "d1=data.drop_duplicates(subset={'review'},keep=\"first\")"
      ],
      "execution_count": 0,
      "outputs": []
    },
    {
      "cell_type": "code",
      "metadata": {
        "id": "z6rqiH39l1IK",
        "colab_type": "code",
        "outputId": "830d6a29-a013-4f31-cb2d-f42668da05df",
        "colab": {
          "base_uri": "https://localhost:8080/",
          "height": 34
        }
      },
      "source": [
        "d1.shape"
      ],
      "execution_count": 0,
      "outputs": [
        {
          "output_type": "execute_result",
          "data": {
            "text/plain": [
              "(49582, 2)"
            ]
          },
          "metadata": {
            "tags": []
          },
          "execution_count": 42
        }
      ]
    },
    {
      "cell_type": "code",
      "metadata": {
        "id": "cgwdg_8xl4VQ",
        "colab_type": "code",
        "outputId": "20448d24-cd28-4c93-e3ed-5bdd4515e447",
        "colab": {
          "base_uri": "https://localhost:8080/",
          "height": 67
        }
      },
      "source": [
        "d1['sentiment'].value_counts()"
      ],
      "execution_count": 0,
      "outputs": [
        {
          "output_type": "execute_result",
          "data": {
            "text/plain": [
              "positive    24884\n",
              "negative    24698\n",
              "Name: sentiment, dtype: int64"
            ]
          },
          "metadata": {
            "tags": []
          },
          "execution_count": 43
        }
      ]
    },
    {
      "cell_type": "code",
      "metadata": {
        "id": "YcHEWDuxmGaO",
        "colab_type": "code",
        "outputId": "ddac9a36-b92b-49b3-9f2c-0cd4ea3eed14",
        "colab": {
          "base_uri": "https://localhost:8080/",
          "height": 195
        }
      },
      "source": [
        "d1.head()"
      ],
      "execution_count": 0,
      "outputs": [
        {
          "output_type": "execute_result",
          "data": {
            "text/html": [
              "<div>\n",
              "<style scoped>\n",
              "    .dataframe tbody tr th:only-of-type {\n",
              "        vertical-align: middle;\n",
              "    }\n",
              "\n",
              "    .dataframe tbody tr th {\n",
              "        vertical-align: top;\n",
              "    }\n",
              "\n",
              "    .dataframe thead th {\n",
              "        text-align: right;\n",
              "    }\n",
              "</style>\n",
              "<table border=\"1\" class=\"dataframe\">\n",
              "  <thead>\n",
              "    <tr style=\"text-align: right;\">\n",
              "      <th></th>\n",
              "      <th>review</th>\n",
              "      <th>sentiment</th>\n",
              "    </tr>\n",
              "  </thead>\n",
              "  <tbody>\n",
              "    <tr>\n",
              "      <th>0</th>\n",
              "      <td>One of the other reviewers has mentioned that ...</td>\n",
              "      <td>positive</td>\n",
              "    </tr>\n",
              "    <tr>\n",
              "      <th>1</th>\n",
              "      <td>A wonderful little production. &lt;br /&gt;&lt;br /&gt;The...</td>\n",
              "      <td>positive</td>\n",
              "    </tr>\n",
              "    <tr>\n",
              "      <th>2</th>\n",
              "      <td>I thought this was a wonderful way to spend ti...</td>\n",
              "      <td>positive</td>\n",
              "    </tr>\n",
              "    <tr>\n",
              "      <th>3</th>\n",
              "      <td>Basically there's a family where a little boy ...</td>\n",
              "      <td>negative</td>\n",
              "    </tr>\n",
              "    <tr>\n",
              "      <th>4</th>\n",
              "      <td>Petter Mattei's \"Love in the Time of Money\" is...</td>\n",
              "      <td>positive</td>\n",
              "    </tr>\n",
              "  </tbody>\n",
              "</table>\n",
              "</div>"
            ],
            "text/plain": [
              "                                              review sentiment\n",
              "0  One of the other reviewers has mentioned that ...  positive\n",
              "1  A wonderful little production. <br /><br />The...  positive\n",
              "2  I thought this was a wonderful way to spend ti...  positive\n",
              "3  Basically there's a family where a little boy ...  negative\n",
              "4  Petter Mattei's \"Love in the Time of Money\" is...  positive"
            ]
          },
          "metadata": {
            "tags": []
          },
          "execution_count": 44
        }
      ]
    },
    {
      "cell_type": "code",
      "metadata": {
        "id": "mIss7x8xmYAv",
        "colab_type": "code",
        "colab": {}
      },
      "source": [
        "# https://stackoverflow.com/a/47091490/4084039      # This function will convert words like 'won't' to 'will not',can\\'t to cannot etc.\n",
        "import re\n",
        "\n",
        "def decontracted(phrase):\n",
        "    \n",
        "    phrase = re.sub(r\"won't\", \"will not\", phrase)   \n",
        "    phrase = re.sub(r\"can\\'t\", \"can not\", phrase)\n",
        "    phrase = re.sub(r\"n\\'t\", \" not\", phrase)\n",
        "    phrase = re.sub(r\"\\'re\", \" are\", phrase)\n",
        "    phrase = re.sub(r\"\\'s\", \" is\", phrase)\n",
        "    phrase = re.sub(r\"\\'d\", \" would\", phrase)\n",
        "    phrase = re.sub(r\"\\'ll\", \" will\", phrase)\n",
        "    phrase = re.sub(r\"\\'t\", \" not\", phrase)\n",
        "    phrase = re.sub(r\"\\'ve\", \" have\", phrase)\n",
        "    phrase = re.sub(r\"\\'m\", \" am\", phrase)\n",
        "    return phrase"
      ],
      "execution_count": 0,
      "outputs": []
    },
    {
      "cell_type": "code",
      "metadata": {
        "id": "cHwoWNIlnoJc",
        "colab_type": "code",
        "colab": {}
      },
      "source": [
        "#https://stackoverflow.com/questions/9662346/python-code-to-remove-html-tags-from-a-string    #Will Remove HTML tags from sentance \n",
        "\n",
        "def removehtml(sent):\n",
        "    cleanr = re.compile('<.*?>')\n",
        "    cleartext = re.sub(cleanr, ' ', sent)\n",
        "    return cleartext"
      ],
      "execution_count": 0,
      "outputs": []
    },
    {
      "cell_type": "code",
      "metadata": {
        "id": "iwxqkkATu9il",
        "colab_type": "code",
        "colab": {}
      },
      "source": [
        "#Will Remove Puntuation's from sentance\n",
        "def cleanpunc(sentence):         \n",
        "    cleaned = re.sub(r'[?|!|\\'|\"|#]',r'',sentence)\n",
        "    cleaned = re.sub(r'[.|,|)|(|\\|/]',r' ',cleaned)\n",
        "    return  cleaned"
      ],
      "execution_count": 0,
      "outputs": []
    },
    {
      "cell_type": "code",
      "metadata": {
        "id": "yXfeO118qo44",
        "colab_type": "code",
        "colab": {}
      },
      "source": [
        "stopwords= ['i', 'me', 'my', 'myself', 'we', 'our', 'ours', 'ourselves', 'you', \"you're\", \"you've\",\\\n",
        "            \"you'll\", \"you'd\", 'your', 'yours', 'yourself', 'yourselves', 'he', 'him', 'his', 'himself', \\\n",
        "            'she', \"she's\", 'her', 'hers', 'herself', 'it', \"it's\", 'its', 'itself', 'they', 'them', 'their',\\\n",
        "            'theirs', 'themselves', 'what', 'which', 'who', 'whom', 'this', 'that', \"that'll\", 'these', 'those', \\\n",
        "            'am', 'is', 'are', 'was', 'were', 'be', 'been', 'being', 'have', 'has', 'had', 'having', 'do', 'does', \\\n",
        "            'did', 'doing', 'a', 'an', 'the', 'and', 'but', 'if', 'or', 'because', 'as', 'until', 'while', 'of', \\\n",
        "            'at', 'by', 'for', 'with', 'about', 'against', 'between', 'into', 'through', 'during', 'before', 'after',\\\n",
        "            'above', 'below', 'to', 'from', 'up', 'down', 'in', 'out', 'on', 'off', 'over', 'under', 'again', 'further',\\\n",
        "            'then', 'once', 'here', 'there', 'when', 'where', 'why', 'how', 'all', 'any', 'both', 'each', 'few', 'more',\\\n",
        "            'most', 'other', 'some', 'such', 'only', 'own', 'same', 'so', 'than', 'too', 'very', \\\n",
        "            's', 't', 'can', 'will', 'just', 'don', \"don't\", 'should', \"should've\", 'now', 'd', 'll', 'm', 'o', 're', \\\n",
        "            've', 'y', 'ain', 'aren', \"aren't\", 'couldn', \"couldn't\", 'didn', \"didn't\", 'doesn', \"doesn't\", 'hadn',\\\n",
        "            \"hadn't\", 'hasn', \"hasn't\", 'haven', \"haven't\", 'isn', \"isn't\", 'ma', 'mightn', \"mightn't\", 'mustn',\\\n",
        "            \"mustn't\", 'needn', \"needn't\", 'shan', \"shan't\", 'shouldn', \"shouldn't\", 'wasn', \"wasn't\", 'weren', \"weren't\", \\\n",
        "            'won', \"won't\", 'wouldn', \"wouldn't\"]"
      ],
      "execution_count": 0,
      "outputs": []
    },
    {
      "cell_type": "code",
      "metadata": {
        "id": "-NXQ-Xl6ttyo",
        "colab_type": "code",
        "colab": {}
      },
      "source": [
        "# This Will remove stopwords from sentance.\n",
        "filtered_review=[]\n",
        "\n",
        "for sent in (data['review'].values):\n",
        "  sent=decontracted(sent)\n",
        "  sent=removehtml(sent)\n",
        "  sent=cleanpunc(sent)\n",
        "  sent=re.sub('[^A-Za-z0-9]+', ' ',sent)\n",
        "  sent=sent.replace(\"\\'\", \"\")\n",
        "  \n",
        "  sent=' '.join(i for i in sent.split() if i.lower() not in stopwords)\n",
        "  filtered_review.append(sent.lower().strip())"
      ],
      "execution_count": 0,
      "outputs": []
    },
    {
      "cell_type": "code",
      "metadata": {
        "id": "05__TzYotBC2",
        "colab_type": "code",
        "outputId": "0c2b282c-61b9-48c4-c267-dad22ff9519b",
        "colab": {
          "base_uri": "https://localhost:8080/",
          "height": 195
        }
      },
      "source": [
        "data.head()"
      ],
      "execution_count": 0,
      "outputs": [
        {
          "output_type": "execute_result",
          "data": {
            "text/html": [
              "<div>\n",
              "<style scoped>\n",
              "    .dataframe tbody tr th:only-of-type {\n",
              "        vertical-align: middle;\n",
              "    }\n",
              "\n",
              "    .dataframe tbody tr th {\n",
              "        vertical-align: top;\n",
              "    }\n",
              "\n",
              "    .dataframe thead th {\n",
              "        text-align: right;\n",
              "    }\n",
              "</style>\n",
              "<table border=\"1\" class=\"dataframe\">\n",
              "  <thead>\n",
              "    <tr style=\"text-align: right;\">\n",
              "      <th></th>\n",
              "      <th>review</th>\n",
              "      <th>sentiment</th>\n",
              "    </tr>\n",
              "  </thead>\n",
              "  <tbody>\n",
              "    <tr>\n",
              "      <th>0</th>\n",
              "      <td>One of the other reviewers has mentioned that ...</td>\n",
              "      <td>positive</td>\n",
              "    </tr>\n",
              "    <tr>\n",
              "      <th>1</th>\n",
              "      <td>A wonderful little production. &lt;br /&gt;&lt;br /&gt;The...</td>\n",
              "      <td>positive</td>\n",
              "    </tr>\n",
              "    <tr>\n",
              "      <th>2</th>\n",
              "      <td>I thought this was a wonderful way to spend ti...</td>\n",
              "      <td>positive</td>\n",
              "    </tr>\n",
              "    <tr>\n",
              "      <th>3</th>\n",
              "      <td>Basically there's a family where a little boy ...</td>\n",
              "      <td>negative</td>\n",
              "    </tr>\n",
              "    <tr>\n",
              "      <th>4</th>\n",
              "      <td>Petter Mattei's \"Love in the Time of Money\" is...</td>\n",
              "      <td>positive</td>\n",
              "    </tr>\n",
              "  </tbody>\n",
              "</table>\n",
              "</div>"
            ],
            "text/plain": [
              "                                              review sentiment\n",
              "0  One of the other reviewers has mentioned that ...  positive\n",
              "1  A wonderful little production. <br /><br />The...  positive\n",
              "2  I thought this was a wonderful way to spend ti...  positive\n",
              "3  Basically there's a family where a little boy ...  negative\n",
              "4  Petter Mattei's \"Love in the Time of Money\" is...  positive"
            ]
          },
          "metadata": {
            "tags": []
          },
          "execution_count": 50
        }
      ]
    },
    {
      "cell_type": "code",
      "metadata": {
        "id": "BvUA6tEqztZh",
        "colab_type": "code",
        "colab": {}
      },
      "source": [
        "from nltk.stem import SnowballStemmer\n",
        "snow=SnowballStemmer('english')"
      ],
      "execution_count": 0,
      "outputs": []
    },
    {
      "cell_type": "code",
      "metadata": {
        "id": "W8rfUU7x2B8A",
        "colab_type": "code",
        "colab": {}
      },
      "source": [
        "data['New_review']=filtered_review"
      ],
      "execution_count": 0,
      "outputs": []
    },
    {
      "cell_type": "code",
      "metadata": {
        "id": "Z6y9Zky50d-3",
        "colab_type": "code",
        "outputId": "2a3e96b1-6c1c-4b21-a4c4-0240465973a4",
        "colab": {
          "base_uri": "https://localhost:8080/",
          "height": 34
        }
      },
      "source": [
        "from tqdm import tqdm\n",
        "Final_review=[]\n",
        "for i in tqdm(data['New_review'].values):\n",
        "  s=snow.stem(i.lower())\n",
        "  Final_review.append(s)\n"
      ],
      "execution_count": 0,
      "outputs": [
        {
          "output_type": "stream",
          "text": [
            "100%|██████████| 50000/50000 [00:06<00:00, 8025.17it/s]\n"
          ],
          "name": "stderr"
        }
      ]
    },
    {
      "cell_type": "code",
      "metadata": {
        "id": "WK-lFGcP0okT",
        "colab_type": "code",
        "outputId": "308da3fa-97e7-4278-ac56-40bdec596beb",
        "colab": {
          "base_uri": "https://localhost:8080/",
          "height": 195
        }
      },
      "source": [
        "data.head()"
      ],
      "execution_count": 0,
      "outputs": [
        {
          "output_type": "execute_result",
          "data": {
            "text/html": [
              "<div>\n",
              "<style scoped>\n",
              "    .dataframe tbody tr th:only-of-type {\n",
              "        vertical-align: middle;\n",
              "    }\n",
              "\n",
              "    .dataframe tbody tr th {\n",
              "        vertical-align: top;\n",
              "    }\n",
              "\n",
              "    .dataframe thead th {\n",
              "        text-align: right;\n",
              "    }\n",
              "</style>\n",
              "<table border=\"1\" class=\"dataframe\">\n",
              "  <thead>\n",
              "    <tr style=\"text-align: right;\">\n",
              "      <th></th>\n",
              "      <th>review</th>\n",
              "      <th>sentiment</th>\n",
              "      <th>New_review</th>\n",
              "    </tr>\n",
              "  </thead>\n",
              "  <tbody>\n",
              "    <tr>\n",
              "      <th>0</th>\n",
              "      <td>One of the other reviewers has mentioned that ...</td>\n",
              "      <td>positive</td>\n",
              "      <td>one reviewers mentioned watching 1 oz episode ...</td>\n",
              "    </tr>\n",
              "    <tr>\n",
              "      <th>1</th>\n",
              "      <td>A wonderful little production. &lt;br /&gt;&lt;br /&gt;The...</td>\n",
              "      <td>positive</td>\n",
              "      <td>wonderful little production filming technique ...</td>\n",
              "    </tr>\n",
              "    <tr>\n",
              "      <th>2</th>\n",
              "      <td>I thought this was a wonderful way to spend ti...</td>\n",
              "      <td>positive</td>\n",
              "      <td>thought wonderful way spend time hot summer we...</td>\n",
              "    </tr>\n",
              "    <tr>\n",
              "      <th>3</th>\n",
              "      <td>Basically there's a family where a little boy ...</td>\n",
              "      <td>negative</td>\n",
              "      <td>basically family little boy jake thinks zombie...</td>\n",
              "    </tr>\n",
              "    <tr>\n",
              "      <th>4</th>\n",
              "      <td>Petter Mattei's \"Love in the Time of Money\" is...</td>\n",
              "      <td>positive</td>\n",
              "      <td>petter mattei love time money visually stunnin...</td>\n",
              "    </tr>\n",
              "  </tbody>\n",
              "</table>\n",
              "</div>"
            ],
            "text/plain": [
              "                                              review  ...                                         New_review\n",
              "0  One of the other reviewers has mentioned that ...  ...  one reviewers mentioned watching 1 oz episode ...\n",
              "1  A wonderful little production. <br /><br />The...  ...  wonderful little production filming technique ...\n",
              "2  I thought this was a wonderful way to spend ti...  ...  thought wonderful way spend time hot summer we...\n",
              "3  Basically there's a family where a little boy ...  ...  basically family little boy jake thinks zombie...\n",
              "4  Petter Mattei's \"Love in the Time of Money\" is...  ...  petter mattei love time money visually stunnin...\n",
              "\n",
              "[5 rows x 3 columns]"
            ]
          },
          "metadata": {
            "tags": []
          },
          "execution_count": 54
        }
      ]
    },
    {
      "cell_type": "code",
      "metadata": {
        "id": "IbI-FC793y8n",
        "colab_type": "code",
        "colab": {}
      },
      "source": [
        "data.drop(['review','New_review'],axis=1,inplace=True)"
      ],
      "execution_count": 0,
      "outputs": []
    },
    {
      "cell_type": "code",
      "metadata": {
        "id": "gsisNLFR3_rI",
        "colab_type": "code",
        "outputId": "a0f28fb9-47dc-4ee0-9b9e-c703c1f94fd1",
        "colab": {
          "base_uri": "https://localhost:8080/",
          "height": 195
        }
      },
      "source": [
        "data.head()"
      ],
      "execution_count": 0,
      "outputs": [
        {
          "output_type": "execute_result",
          "data": {
            "text/html": [
              "<div>\n",
              "<style scoped>\n",
              "    .dataframe tbody tr th:only-of-type {\n",
              "        vertical-align: middle;\n",
              "    }\n",
              "\n",
              "    .dataframe tbody tr th {\n",
              "        vertical-align: top;\n",
              "    }\n",
              "\n",
              "    .dataframe thead th {\n",
              "        text-align: right;\n",
              "    }\n",
              "</style>\n",
              "<table border=\"1\" class=\"dataframe\">\n",
              "  <thead>\n",
              "    <tr style=\"text-align: right;\">\n",
              "      <th></th>\n",
              "      <th>sentiment</th>\n",
              "    </tr>\n",
              "  </thead>\n",
              "  <tbody>\n",
              "    <tr>\n",
              "      <th>0</th>\n",
              "      <td>positive</td>\n",
              "    </tr>\n",
              "    <tr>\n",
              "      <th>1</th>\n",
              "      <td>positive</td>\n",
              "    </tr>\n",
              "    <tr>\n",
              "      <th>2</th>\n",
              "      <td>positive</td>\n",
              "    </tr>\n",
              "    <tr>\n",
              "      <th>3</th>\n",
              "      <td>negative</td>\n",
              "    </tr>\n",
              "    <tr>\n",
              "      <th>4</th>\n",
              "      <td>positive</td>\n",
              "    </tr>\n",
              "  </tbody>\n",
              "</table>\n",
              "</div>"
            ],
            "text/plain": [
              "  sentiment\n",
              "0  positive\n",
              "1  positive\n",
              "2  positive\n",
              "3  negative\n",
              "4  positive"
            ]
          },
          "metadata": {
            "tags": []
          },
          "execution_count": 17
        }
      ]
    },
    {
      "cell_type": "code",
      "metadata": {
        "id": "CDZQJcbv4xKD",
        "colab_type": "code",
        "colab": {}
      },
      "source": [
        "\n",
        "data['Cleaned_review']=Final_review"
      ],
      "execution_count": 0,
      "outputs": []
    },
    {
      "cell_type": "code",
      "metadata": {
        "id": "mdgEHwCQ4-BK",
        "colab_type": "code",
        "outputId": "46f7b5f1-9cb1-4219-d277-4525af3b448b",
        "colab": {
          "base_uri": "https://localhost:8080/",
          "height": 195
        }
      },
      "source": [
        "data.head()"
      ],
      "execution_count": 0,
      "outputs": [
        {
          "output_type": "execute_result",
          "data": {
            "text/html": [
              "<div>\n",
              "<style scoped>\n",
              "    .dataframe tbody tr th:only-of-type {\n",
              "        vertical-align: middle;\n",
              "    }\n",
              "\n",
              "    .dataframe tbody tr th {\n",
              "        vertical-align: top;\n",
              "    }\n",
              "\n",
              "    .dataframe thead th {\n",
              "        text-align: right;\n",
              "    }\n",
              "</style>\n",
              "<table border=\"1\" class=\"dataframe\">\n",
              "  <thead>\n",
              "    <tr style=\"text-align: right;\">\n",
              "      <th></th>\n",
              "      <th>sentiment</th>\n",
              "      <th>Cleaned_review</th>\n",
              "    </tr>\n",
              "  </thead>\n",
              "  <tbody>\n",
              "    <tr>\n",
              "      <th>0</th>\n",
              "      <td>positive</td>\n",
              "      <td>one reviewers mentioned watching 1 oz episode ...</td>\n",
              "    </tr>\n",
              "    <tr>\n",
              "      <th>1</th>\n",
              "      <td>positive</td>\n",
              "      <td>wonderful little production filming technique ...</td>\n",
              "    </tr>\n",
              "    <tr>\n",
              "      <th>2</th>\n",
              "      <td>positive</td>\n",
              "      <td>thought wonderful way spend time hot summer we...</td>\n",
              "    </tr>\n",
              "    <tr>\n",
              "      <th>3</th>\n",
              "      <td>negative</td>\n",
              "      <td>basically family little boy jake thinks zombie...</td>\n",
              "    </tr>\n",
              "    <tr>\n",
              "      <th>4</th>\n",
              "      <td>positive</td>\n",
              "      <td>petter mattei love time money visually stunnin...</td>\n",
              "    </tr>\n",
              "  </tbody>\n",
              "</table>\n",
              "</div>"
            ],
            "text/plain": [
              "  sentiment                                     Cleaned_review\n",
              "0  positive  one reviewers mentioned watching 1 oz episode ...\n",
              "1  positive  wonderful little production filming technique ...\n",
              "2  positive  thought wonderful way spend time hot summer we...\n",
              "3  negative  basically family little boy jake thinks zombie...\n",
              "4  positive  petter mattei love time money visually stunnin..."
            ]
          },
          "metadata": {
            "tags": []
          },
          "execution_count": 57
        }
      ]
    },
    {
      "cell_type": "code",
      "metadata": {
        "id": "9BxYXvEA5IoH",
        "colab_type": "code",
        "outputId": "5b1fe76d-709b-4c4d-cca0-11703d0df7bd",
        "colab": {
          "base_uri": "https://localhost:8080/",
          "height": 34
        }
      },
      "source": [
        "data.shape"
      ],
      "execution_count": 0,
      "outputs": [
        {
          "output_type": "execute_result",
          "data": {
            "text/plain": [
              "(50000, 2)"
            ]
          },
          "metadata": {
            "tags": []
          },
          "execution_count": 58
        }
      ]
    },
    {
      "cell_type": "code",
      "metadata": {
        "id": "qE8PV7eN5PSL",
        "colab_type": "code",
        "colab": {}
      },
      "source": [
        "# This is the Final data we will be use for preprocessing\n",
        "Final_data=data.drop_duplicates(subset={'Cleaned_review'},keep=\"first\")"
      ],
      "execution_count": 0,
      "outputs": []
    },
    {
      "cell_type": "code",
      "metadata": {
        "id": "L_JLR3vf58dB",
        "colab_type": "code",
        "outputId": "76983cb0-0eee-4bd1-e07b-39a44c31dc60",
        "colab": {
          "base_uri": "https://localhost:8080/",
          "height": 195
        }
      },
      "source": [
        "Final_data.head()"
      ],
      "execution_count": 0,
      "outputs": [
        {
          "output_type": "execute_result",
          "data": {
            "text/html": [
              "<div>\n",
              "<style scoped>\n",
              "    .dataframe tbody tr th:only-of-type {\n",
              "        vertical-align: middle;\n",
              "    }\n",
              "\n",
              "    .dataframe tbody tr th {\n",
              "        vertical-align: top;\n",
              "    }\n",
              "\n",
              "    .dataframe thead th {\n",
              "        text-align: right;\n",
              "    }\n",
              "</style>\n",
              "<table border=\"1\" class=\"dataframe\">\n",
              "  <thead>\n",
              "    <tr style=\"text-align: right;\">\n",
              "      <th></th>\n",
              "      <th>sentiment</th>\n",
              "      <th>Cleaned_review</th>\n",
              "    </tr>\n",
              "  </thead>\n",
              "  <tbody>\n",
              "    <tr>\n",
              "      <th>0</th>\n",
              "      <td>positive</td>\n",
              "      <td>one reviewers mentioned watching 1 oz episode ...</td>\n",
              "    </tr>\n",
              "    <tr>\n",
              "      <th>1</th>\n",
              "      <td>positive</td>\n",
              "      <td>wonderful little production filming technique ...</td>\n",
              "    </tr>\n",
              "    <tr>\n",
              "      <th>2</th>\n",
              "      <td>positive</td>\n",
              "      <td>thought wonderful way spend time hot summer we...</td>\n",
              "    </tr>\n",
              "    <tr>\n",
              "      <th>3</th>\n",
              "      <td>negative</td>\n",
              "      <td>basically family little boy jake thinks zombie...</td>\n",
              "    </tr>\n",
              "    <tr>\n",
              "      <th>4</th>\n",
              "      <td>positive</td>\n",
              "      <td>petter mattei love time money visually stunnin...</td>\n",
              "    </tr>\n",
              "  </tbody>\n",
              "</table>\n",
              "</div>"
            ],
            "text/plain": [
              "  sentiment                                     Cleaned_review\n",
              "0  positive  one reviewers mentioned watching 1 oz episode ...\n",
              "1  positive  wonderful little production filming technique ...\n",
              "2  positive  thought wonderful way spend time hot summer we...\n",
              "3  negative  basically family little boy jake thinks zombie...\n",
              "4  positive  petter mattei love time money visually stunnin..."
            ]
          },
          "metadata": {
            "tags": []
          },
          "execution_count": 60
        }
      ]
    },
    {
      "cell_type": "code",
      "metadata": {
        "id": "c9BH3RMs5_Rf",
        "colab_type": "code",
        "outputId": "1687bcc6-84de-4dba-b328-2e10166bc567",
        "colab": {
          "base_uri": "https://localhost:8080/",
          "height": 34
        }
      },
      "source": [
        "Final_data.shape"
      ],
      "execution_count": 0,
      "outputs": [
        {
          "output_type": "execute_result",
          "data": {
            "text/plain": [
              "(49575, 2)"
            ]
          },
          "metadata": {
            "tags": []
          },
          "execution_count": 28
        }
      ]
    },
    {
      "cell_type": "markdown",
      "metadata": {
        "id": "LJ-SIjpb1XAM",
        "colab_type": "text"
      },
      "source": [
        "**Ways Convert text to Vector**"
      ]
    },
    {
      "cell_type": "markdown",
      "metadata": {
        "id": "uUUVJnFr1l6X",
        "colab_type": "text"
      },
      "source": [
        "**1.Uni Gram(BOW)**"
      ]
    },
    {
      "cell_type": "code",
      "metadata": {
        "id": "HUH9sxCa1oxp",
        "colab_type": "code",
        "outputId": "3ae11284-9691-4f05-85d2-33dfa049cdb3",
        "colab": {
          "base_uri": "https://localhost:8080/",
          "height": 34
        }
      },
      "source": [
        "uni_gram=CountVectorizer()\n",
        "uni_vectors=uni_gram.fit_transform(Final_data['Cleaned_review'].values)\n",
        "\n",
        "uni_vectors.shape"
      ],
      "execution_count": 0,
      "outputs": [
        {
          "output_type": "execute_result",
          "data": {
            "text/plain": [
              "(49575, 104912)"
            ]
          },
          "metadata": {
            "tags": []
          },
          "execution_count": 29
        }
      ]
    },
    {
      "cell_type": "code",
      "metadata": {
        "id": "XiDETv8B2kIy",
        "colab_type": "code",
        "outputId": "0128cf0e-ae28-4c1f-d8fb-9fe1162fd9bd",
        "colab": {
          "base_uri": "https://localhost:8080/",
          "height": 34
        }
      },
      "source": [
        "from sklearn import preprocessing\n",
        "uni_vect_norm=preprocessing.normalize(uni_vectors)\n",
        "uni_vect_norm.shape"
      ],
      "execution_count": 0,
      "outputs": [
        {
          "output_type": "execute_result",
          "data": {
            "text/plain": [
              "(49575, 104912)"
            ]
          },
          "metadata": {
            "tags": []
          },
          "execution_count": 30
        }
      ]
    },
    {
      "cell_type": "code",
      "metadata": {
        "id": "N_fQLnOg_H1C",
        "colab_type": "code",
        "colab": {}
      },
      "source": [
        "from sklearn.model_selection import train_test_split"
      ],
      "execution_count": 0,
      "outputs": []
    },
    {
      "cell_type": "code",
      "metadata": {
        "id": "GlZ2F0UK3NOh",
        "colab_type": "code",
        "colab": {}
      },
      "source": [
        "X_train,X_test,y_train,y_test=train_test_split(uni_vect_norm,Final_data['sentiment'].values,test_size=0.3,shuffle=False)"
      ],
      "execution_count": 0,
      "outputs": []
    },
    {
      "cell_type": "code",
      "metadata": {
        "id": "RJbBqLUeBB7_",
        "colab_type": "code",
        "colab": {}
      },
      "source": [
        "from sklearn.neighbors import KNeighborsClassifier\n",
        "from sklearn.model_selection import TimeSeriesSplit"
      ],
      "execution_count": 0,
      "outputs": []
    },
    {
      "cell_type": "code",
      "metadata": {
        "id": "syCWo2bp_HQN",
        "colab_type": "code",
        "outputId": "17de6215-cc1d-493b-eabc-158df98af057",
        "colab": {
          "base_uri": "https://localhost:8080/",
          "height": 470
        }
      },
      "source": [
        "from tqdm import tqdm\n",
        "neigh_near = 50\n",
        "tscv = TimeSeriesSplit(n_splits=10)\n",
        "cv_scores = []\n",
        "mylist = list(range(0, 51))\n",
        "neighbors = list(filter(lambda x: x % 2 != 0, mylist))\n",
        "\n",
        "for k in tqdm(neighbors):\n",
        "    tmp = []\n",
        "    for train, cv in tscv.split(X_train):\n",
        "        knn = KNeighborsClassifier(n_neighbors=k)\n",
        "        knn.fit(X_train[train], y_train[train])\n",
        "        tmp.append(knn.score(X_train[cv], y_train[cv]) * 100)\n",
        "    tmp = np.array(tmp)\n",
        "    cv_scores.append(tmp.mean())"
      ],
      "execution_count": 0,
      "outputs": [
        {
          "output_type": "stream",
          "text": [
            "\n",
            "  0%|          | 0/25 [00:00<?, ?it/s]\u001b[A\n",
            "  4%|▍         | 1/25 [00:43<17:20, 43.37s/it]\u001b[A\n",
            "  8%|▊         | 2/25 [01:28<16:47, 43.80s/it]\u001b[A\n",
            " 12%|█▏        | 3/25 [02:15<16:28, 44.95s/it]\u001b[A\n",
            " 16%|█▌        | 4/25 [03:03<16:00, 45.76s/it]\u001b[A\n",
            " 20%|██        | 5/25 [03:51<15:27, 46.36s/it]\u001b[A\n",
            " 24%|██▍       | 6/25 [04:38<14:48, 46.77s/it]\u001b[A\n",
            " 28%|██▊       | 7/25 [05:26<14:06, 47.03s/it]\u001b[A\n",
            " 32%|███▏      | 8/25 [06:14<13:22, 47.23s/it]\u001b[A\n",
            " 36%|███▌      | 9/25 [07:01<12:35, 47.23s/it]\u001b[A\n",
            " 40%|████      | 10/25 [07:48<11:45, 47.05s/it]\u001b[A\n",
            " 44%|████▍     | 11/25 [08:33<10:53, 46.67s/it]\u001b[A\n",
            " 48%|████▊     | 12/25 [09:19<10:03, 46.42s/it]\u001b[A\n",
            " 52%|█████▏    | 13/25 [10:05<09:15, 46.33s/it]\u001b[A\n",
            " 56%|█████▌    | 14/25 [10:52<08:30, 46.38s/it]\u001b[A\n",
            " 60%|██████    | 15/25 [11:38<07:42, 46.30s/it]\u001b[A\n",
            " 64%|██████▍   | 16/25 [12:25<06:57, 46.39s/it]\u001b[A\n",
            " 68%|██████▊   | 17/25 [13:11<06:12, 46.53s/it]\u001b[A\n",
            " 72%|███████▏  | 18/25 [13:58<05:25, 46.56s/it]\u001b[A\n",
            " 76%|███████▌  | 19/25 [14:45<04:39, 46.59s/it]\u001b[A\n",
            " 80%|████████  | 20/25 [15:31<03:53, 46.62s/it]\u001b[A\n",
            " 84%|████████▍ | 21/25 [16:18<03:06, 46.62s/it]\u001b[A\n",
            " 88%|████████▊ | 22/25 [17:05<02:19, 46.63s/it]\u001b[A\n",
            " 92%|█████████▏| 23/25 [17:51<01:33, 46.61s/it]\u001b[A\n",
            " 96%|█████████▌| 24/25 [18:38<00:46, 46.54s/it]\u001b[A\n",
            "100%|██████████| 25/25 [19:24<00:00, 46.58s/it]\n"
          ],
          "name": "stderr"
        }
      ]
    },
    {
      "cell_type": "code",
      "metadata": {
        "id": "2PgUY3TDO_bD",
        "colab_type": "code",
        "colab": {}
      },
      "source": [
        "mse = [1 - x for x in cv_scores]\n",
        "best_k = neighbors[mse.index(min(mse))]"
      ],
      "execution_count": 0,
      "outputs": []
    },
    {
      "cell_type": "code",
      "metadata": {
        "id": "_C0Fu_pk6xbL",
        "colab_type": "code",
        "outputId": "d996fd43-0086-4a10-d499-780e8c3f20bf",
        "colab": {
          "base_uri": "https://localhost:8080/",
          "height": 421
        }
      },
      "source": [
        "plt.figure(figsize=(10,6))\n",
        "plt.plot(np.arange(1, neigh_near, 2), cv_scores)\n",
        "plt.xlabel(\"KNN\")\n",
        "plt.ylabel(\"Accuracy\")\n",
        "plt.title(\"Accuracy for different k values\")\n",
        "plt.show()\n",
        "print('The best k value is : %d' %best_k)\n"
      ],
      "execution_count": 0,
      "outputs": [
        {
          "output_type": "display_data",
          "data": {
            "image/png": "[encoded data removed]",
            "text/plain": [
              "<Figure size 720x432 with 1 Axes>"
            ]
          },
          "metadata": {
            "tags": []
          }
        },
        {
          "output_type": "stream",
          "text": [
            "The best k value is : 19\n"
          ],
          "name": "stdout"
        }
      ]
    },
    {
      "cell_type": "code",
      "metadata": {
        "id": "M303l3pfO-lg",
        "colab_type": "code",
        "outputId": "112fe6b3-04fe-4ee4-cc61-d1c49da24423",
        "colab": {
          "base_uri": "https://localhost:8080/",
          "height": 34
        }
      },
      "source": [
        "knn=KNeighborsClassifier(n_neighbors=best_k)\n",
        "knn.fit(X_train,y_train)\n",
        "acc=knn.score(X_test,y_test)\n",
        "print(\"Accuracy using Uni-Gram: %0.3f%%\"%(acc*100))"
      ],
      "execution_count": 0,
      "outputs": [
        {
          "output_type": "stream",
          "text": [
            "Accuracy using Uni-Gram: 73.919%\n"
          ],
          "name": "stdout"
        }
      ]
    },
    {
      "cell_type": "markdown",
      "metadata": {
        "id": "fWUf-akxUzNE",
        "colab_type": "text"
      },
      "source": [
        "**2.Bi-Gram(BOW)**"
      ]
    },
    {
      "cell_type": "code",
      "metadata": {
        "id": "bKrOvO78U3uR",
        "colab_type": "code",
        "outputId": "1a45f70c-3d99-4b1c-8410-09e4b3d95d0d",
        "colab": {
          "base_uri": "https://localhost:8080/",
          "height": 34
        }
      },
      "source": [
        "bi_gram=CountVectorizer(ngram_range=(1,2))\n",
        "bi_vect=bi_gram.fit_transform(Final_data['Cleaned_review'].values)\n",
        "bi_vect.shape"
      ],
      "execution_count": 0,
      "outputs": [
        {
          "output_type": "execute_result",
          "data": {
            "text/plain": [
              "(49575, 3213257)"
            ]
          },
          "metadata": {
            "tags": []
          },
          "execution_count": 35
        }
      ]
    },
    {
      "cell_type": "code",
      "metadata": {
        "id": "WEf3QtnJVW6P",
        "colab_type": "code",
        "colab": {}
      },
      "source": [
        "bi_vect_norm=preprocessing.normalize(bi_vect)"
      ],
      "execution_count": 0,
      "outputs": []
    },
    {
      "cell_type": "code",
      "metadata": {
        "id": "SRV36CyYVtYt",
        "colab_type": "code",
        "colab": {}
      },
      "source": [
        "X_train,X_test,y_train,y_test=train_test_split(bi_vect_norm,Final_data['sentiment'].values,test_size=0.3,shuffle=False)"
      ],
      "execution_count": 0,
      "outputs": []
    },
    {
      "cell_type": "code",
      "metadata": {
        "id": "OGVGvH_hV5_J",
        "colab_type": "code",
        "outputId": "840d6969-682e-4a87-e2cd-f7a8c46572ae",
        "colab": {
          "base_uri": "https://localhost:8080/",
          "height": 34
        }
      },
      "source": [
        "from tqdm import tqdm\n",
        "neigh_near = 50\n",
        "tscv = TimeSeriesSplit(n_splits=10)\n",
        "cv_scores = []\n",
        "mylist = list(range(0, 51))\n",
        "neighbors = list(filter(lambda x: x % 2 != 0, mylist))\n",
        "\n",
        "for k in tqdm(neighbors):\n",
        "    tmp = []\n",
        "    for train, cv in tscv.split(X_train):\n",
        "        knn = KNeighborsClassifier(n_neighbors=k)\n",
        "        knn.fit(X_train[train], y_train[train])\n",
        "        tmp.append(knn.score(X_train[cv], y_train[cv]) * 100)\n",
        "    tmp = np.array(tmp)\n",
        "    cv_scores.append(tmp.mean())"
      ],
      "execution_count": 0,
      "outputs": [
        {
          "output_type": "stream",
          "text": [
            "100%|██████████| 25/25 [17:26<00:00, 41.88s/it]\n"
          ],
          "name": "stderr"
        }
      ]
    },
    {
      "cell_type": "code",
      "metadata": {
        "id": "Wh0BJMteWBpo",
        "colab_type": "code",
        "colab": {}
      },
      "source": [
        "mse = [1 - x for x in cv_scores]\n",
        "best_k = neighbors[mse.index(min(mse))]"
      ],
      "execution_count": 0,
      "outputs": []
    },
    {
      "cell_type": "code",
      "metadata": {
        "id": "kDdVSNtYbsnS",
        "colab_type": "code",
        "outputId": "b17be05f-4474-4ebe-ab28-a4a43ea7fc35",
        "colab": {
          "base_uri": "https://localhost:8080/",
          "height": 421
        }
      },
      "source": [
        "plt.figure(figsize=(10,6))\n",
        "plt.plot(np.arange(1, neigh_near, 2), cv_scores)\n",
        "plt.xlabel(\"KNN\")\n",
        "plt.ylabel(\"Accuracy\")\n",
        "plt.title(\"Accuracy for different k values\")\n",
        "plt.show()\n",
        "print('The best k value is : %d' %best_k)"
      ],
      "execution_count": 0,
      "outputs": [
        {
          "output_type": "display_data",
          "data": {
            "image/png": "[encoded data removed]",
            "text/plain": [
              "<Figure size 720x432 with 1 Axes>"
            ]
          },
          "metadata": {
            "tags": []
          }
        },
        {
          "output_type": "stream",
          "text": [
            "The best k value is : 19\n"
          ],
          "name": "stdout"
        }
      ]
    },
    {
      "cell_type": "code",
      "metadata": {
        "id": "9SgjxreQby50",
        "colab_type": "code",
        "outputId": "10675c5a-5d9b-45b5-8336-14d6f7a1b224",
        "colab": {
          "base_uri": "https://localhost:8080/",
          "height": 34
        }
      },
      "source": [
        "knn=KNeighborsClassifier(n_neighbors=best_k)\n",
        "knn.fit(X_train,y_train)\n",
        "acc=knn.score(X_test,y_test)\n",
        "print(\"Accuracy using Bi-Gram: %0.2f%%\"%(acc*100))"
      ],
      "execution_count": 0,
      "outputs": [
        {
          "output_type": "stream",
          "text": [
            "Accuracy using Bi-Gram: 73.92%\n"
          ],
          "name": "stdout"
        }
      ]
    },
    {
      "cell_type": "markdown",
      "metadata": {
        "id": "PJFZ-8cycQhw",
        "colab_type": "text"
      },
      "source": [
        "**3.TFIDF**"
      ]
    },
    {
      "cell_type": "code",
      "metadata": {
        "id": "zhqF8NwVcSiM",
        "colab_type": "code",
        "outputId": "1853c91b-aaf2-437f-ce47-ddba4324d923",
        "colab": {
          "base_uri": "https://localhost:8080/",
          "height": 34
        }
      },
      "source": [
        "tfidf=TfidfVectorizer(ngram_range=(1,2))\n",
        "tfidf_vect=tfidf.fit_transform(Final_data['Cleaned_review'].values)\n",
        "tfidf_vect.shape"
      ],
      "execution_count": 0,
      "outputs": [
        {
          "output_type": "execute_result",
          "data": {
            "text/plain": [
              "(49575, 3213257)"
            ]
          },
          "metadata": {
            "tags": []
          },
          "execution_count": 61
        }
      ]
    },
    {
      "cell_type": "code",
      "metadata": {
        "id": "K8XZymi-de4P",
        "colab_type": "code",
        "colab": {}
      },
      "source": [
        "from sklearn import preprocessing\n",
        "from sklearn.model_selection import train_test_split\n",
        "tfidf_vect_norm=preprocessing.normalize(tfidf_vect)\n"
      ],
      "execution_count": 0,
      "outputs": []
    },
    {
      "cell_type": "code",
      "metadata": {
        "id": "hFRzL6tPPdgd",
        "colab_type": "code",
        "colab": {}
      },
      "source": [
        "X_train,X_test,y_train,y_test=train_test_split(tfidf_vect_norm,Final_data['sentiment'].values,test_size=0.3,shuffle=False)"
      ],
      "execution_count": 0,
      "outputs": []
    },
    {
      "cell_type": "code",
      "metadata": {
        "id": "rfsW38CCdrag",
        "colab_type": "code",
        "outputId": "dadba208-923b-46b6-d323-3487cc435754",
        "colab": {
          "base_uri": "https://localhost:8080/",
          "height": 470
        }
      },
      "source": [
        "from tqdm import tqdm\n",
        "neigh_near = 50\n",
        "tscv = TimeSeriesSplit(n_splits=10)\n",
        "cv_scores = []\n",
        "mylist = list(range(0, 51))\n",
        "neighbors = list(filter(lambda x: x % 2 != 0, mylist))\n",
        "\n",
        "for k in tqdm(neighbors):\n",
        "    tmp = []\n",
        "    for train, cv in tscv.split(X_train):\n",
        "        knn = KNeighborsClassifier(n_neighbors=k)\n",
        "        knn.fit(X_train[train], y_train[train])\n",
        "        tmp.append(knn.score(X_train[cv], y_train[cv]) * 100)\n",
        "    tmp = np.array(tmp)\n",
        "    cv_scores.append(tmp.mean())"
      ],
      "execution_count": 0,
      "outputs": [
        {
          "output_type": "stream",
          "text": [
            "\n",
            "  0%|          | 0/25 [00:00<?, ?it/s]\u001b[A\n",
            "  4%|▍         | 1/25 [00:44<17:37, 44.05s/it]\u001b[A\n",
            "  8%|▊         | 2/25 [01:29<17:02, 44.48s/it]\u001b[A\n",
            " 12%|█▏        | 3/25 [02:18<16:45, 45.70s/it]\u001b[A\n",
            " 16%|█▌        | 4/25 [03:06<16:19, 46.65s/it]\u001b[A\n",
            " 20%|██        | 5/25 [03:55<15:44, 47.23s/it]\u001b[A\n",
            " 24%|██▍       | 6/25 [04:44<15:04, 47.61s/it]\u001b[A\n",
            " 28%|██▊       | 7/25 [05:32<14:21, 47.85s/it]\u001b[A\n",
            " 32%|███▏      | 8/25 [06:20<13:35, 47.99s/it]\u001b[A\n",
            " 36%|███▌      | 9/25 [07:09<12:49, 48.09s/it]\u001b[A\n",
            " 40%|████      | 10/25 [07:57<12:02, 48.17s/it]\u001b[A\n",
            " 44%|████▍     | 11/25 [08:45<11:14, 48.17s/it]\u001b[A\n",
            " 48%|████▊     | 12/25 [09:33<10:24, 48.04s/it]\u001b[A\n",
            " 52%|█████▏    | 13/25 [10:21<09:36, 48.02s/it]\u001b[A\n",
            " 56%|█████▌    | 14/25 [11:11<08:55, 48.65s/it]\u001b[A\n",
            " 60%|██████    | 15/25 [11:59<08:05, 48.53s/it]\u001b[A\n",
            " 64%|██████▍   | 16/25 [12:47<07:15, 48.43s/it]\u001b[A\n",
            " 68%|██████▊   | 17/25 [13:36<06:27, 48.41s/it]\u001b[A\n",
            " 72%|███████▏  | 18/25 [14:24<05:39, 48.46s/it]\u001b[A\n",
            " 76%|███████▌  | 19/25 [15:13<04:50, 48.46s/it]\u001b[A\n",
            " 80%|████████  | 20/25 [16:01<04:02, 48.49s/it]\u001b[A\n",
            " 84%|████████▍ | 21/25 [16:50<03:14, 48.52s/it]\u001b[A\n",
            " 88%|████████▊ | 22/25 [17:38<02:25, 48.51s/it]\u001b[A\n",
            " 92%|█████████▏| 23/25 [18:27<01:36, 48.44s/it]\u001b[A\n",
            " 96%|█████████▌| 24/25 [19:15<00:48, 48.38s/it]\u001b[A\n",
            "100%|██████████| 25/25 [20:03<00:00, 48.15s/it]\n"
          ],
          "name": "stderr"
        }
      ]
    },
    {
      "cell_type": "code",
      "metadata": {
        "id": "22hRmLAjdyy0",
        "colab_type": "code",
        "colab": {}
      },
      "source": [
        "mse = [1 - x for x in cv_scores]\n",
        "best_k = neighbors[mse.index(min(mse))]"
      ],
      "execution_count": 0,
      "outputs": []
    },
    {
      "cell_type": "code",
      "metadata": {
        "id": "67S8fWpHh_ri",
        "colab_type": "code",
        "outputId": "e1aa3489-037d-40d3-b4bf-dc3793408af2",
        "colab": {
          "base_uri": "https://localhost:8080/",
          "height": 421
        }
      },
      "source": [
        "plt.figure(figsize=(10,6))\n",
        "plt.plot(np.arange(1, neigh_near, 2), cv_scores)\n",
        "plt.xlabel(\"KNN\")\n",
        "plt.ylabel(\"Accuracy\")\n",
        "plt.title(\"Accuracy for different k values\")\n",
        "plt.show()\n",
        "print('The best k value is : %d' %best_k)"
      ],
      "execution_count": 0,
      "outputs": [
        {
          "output_type": "display_data",
          "data": {
            "image/png": "[encoded data removed]",
            "text/plain": [
              "<Figure size 720x432 with 1 Axes>"
            ]
          },
          "metadata": {
            "tags": []
          }
        },
        {
          "output_type": "stream",
          "text": [
            "The best k value is : 49\n"
          ],
          "name": "stdout"
        }
      ]
    },
    {
      "cell_type": "code",
      "metadata": {
        "id": "dnOowzO1iDeX",
        "colab_type": "code",
        "colab": {}
      },
      "source": [
        "from sklearn.neighbors import KNeighborsClassifier\n",
        "knn=KNeighborsClassifier(n_neighbors=49)\n",
        "knn.fit(X_train,y_train)\n",
        "acc=knn.score(X_test,y_test)\n",
        "print(\"Accuracy using TFIDF: %0.2f%%\"%(acc*100))"
      ],
      "execution_count": 0,
      "outputs": []
    },
    {
      "cell_type": "code",
      "metadata": {
        "id": "OBL3XAfGmwEx",
        "colab_type": "code",
        "colab": {}
      },
      "source": [
        "pred_knn=knn.predict(X_test)"
      ],
      "execution_count": 0,
      "outputs": []
    },
    {
      "cell_type": "code",
      "metadata": {
        "id": "09OqamnSElE7",
        "colab_type": "code",
        "outputId": "7badd02d-9179-46e2-c3ce-95858154eafe",
        "colab": {
          "base_uri": "https://localhost:8080/",
          "height": 304
        }
      },
      "source": [
        "Acc_knn = {\n",
        "    'BOW':0.73,\n",
        "    'TF-IDF':0.82\n",
        "}\n",
        "\n",
        "pd.Series(Acc_knn).plot(kind='bar')\n",
        "plt.ylabel(\"Accuracy\")\n",
        "plt.ylim((.65,.93))\n",
        "plt.show()\n",
        "print(\"As We can see TF-IDF is giving better results \")"
      ],
      "execution_count": 0,
      "outputs": [
        {
          "output_type": "display_data",
          "data": {
            "image/png": "[encoded data removed]",
            "text/plain": [
              "<Figure size 432x288 with 1 Axes>"
            ]
          },
          "metadata": {
            "tags": []
          }
        },
        {
          "output_type": "stream",
          "text": [
            "As We can see TF-IDF is giving better results \n"
          ],
          "name": "stdout"
        }
      ]
    },
    {
      "cell_type": "markdown",
      "metadata": {
        "id": "gwfLBbs4N7hF",
        "colab_type": "text"
      },
      "source": [
        "**1.Logistic Regression**\n"
      ]
    },
    {
      "cell_type": "code",
      "metadata": {
        "id": "xUUkpshROAOG",
        "colab_type": "code",
        "colab": {}
      },
      "source": [
        "from sklearn.linear_model import LogisticRegression"
      ],
      "execution_count": 0,
      "outputs": []
    },
    {
      "cell_type": "code",
      "metadata": {
        "id": "k42xx8jROXZ5",
        "colab_type": "code",
        "colab": {}
      },
      "source": [
        "X_train,X_test,y_train,y_test=train_test_split(tfidf_vect_norm,Final_data['sentiment'].values,test_size=0.3,shuffle=False)"
      ],
      "execution_count": 0,
      "outputs": []
    },
    {
      "cell_type": "code",
      "metadata": {
        "id": "rHg0Wlwqbbml",
        "colab_type": "code",
        "outputId": "c91c884d-a89f-428b-91e5-da4729237ede",
        "colab": {
          "base_uri": "https://localhost:8080/",
          "height": 34
        }
      },
      "source": [
        "lr=LogisticRegression()\n",
        "lr.fit(X_train,y_train)\n",
        "acc=lr.score(X_test,y_test)\n",
        "print(\"Accuracy using TFIDF: %0.2f%%\"%(acc*100))\n"
      ],
      "execution_count": 0,
      "outputs": [
        {
          "output_type": "stream",
          "text": [
            "Accuracy using TFIDF: 89.32%\n"
          ],
          "name": "stdout"
        }
      ]
    },
    {
      "cell_type": "code",
      "metadata": {
        "id": "6GU1s8XPmhx7",
        "colab_type": "code",
        "colab": {}
      },
      "source": [
        "pred_lr=lr.predict(X_test)"
      ],
      "execution_count": 0,
      "outputs": []
    },
    {
      "cell_type": "markdown",
      "metadata": {
        "id": "wZ4agbvTcGFJ",
        "colab_type": "text"
      },
      "source": [
        "**2.Decision Tree**"
      ]
    },
    {
      "cell_type": "code",
      "metadata": {
        "id": "lsUQHT6pcMF1",
        "colab_type": "code",
        "colab": {}
      },
      "source": [
        "from sklearn.tree import DecisionTreeClassifier"
      ],
      "execution_count": 0,
      "outputs": []
    },
    {
      "cell_type": "code",
      "metadata": {
        "id": "WbfcuH4wcx6O",
        "colab_type": "code",
        "colab": {}
      },
      "source": [
        "X_train,X_test,y_train,y_test=train_test_split(tfidf_vect_norm,Final_data['sentiment'].values,test_size=0.3,shuffle=False)"
      ],
      "execution_count": 0,
      "outputs": []
    },
    {
      "cell_type": "code",
      "metadata": {
        "id": "2t-QDioacyZE",
        "colab_type": "code",
        "outputId": "a33111e6-b8fc-4593-9566-61f9075e4f9e",
        "colab": {
          "base_uri": "https://localhost:8080/",
          "height": 34
        }
      },
      "source": [
        "Dt = DecisionTreeClassifier(criterion = 'entropy', random_state = 0)\n",
        "Dt.fit(X_train, y_train)\n",
        "acc=Dt.score(X_test,y_test)\n",
        "print(\"Accuracy using TFIDF: %0.2f%%\"%(acc*100))"
      ],
      "execution_count": 0,
      "outputs": [
        {
          "output_type": "stream",
          "text": [
            "Accuracy using TFIDF: 72.14%\n"
          ],
          "name": "stdout"
        }
      ]
    },
    {
      "cell_type": "code",
      "metadata": {
        "id": "r1RJSB5-m3fa",
        "colab_type": "code",
        "colab": {}
      },
      "source": [
        "pred_dt=Dt.predict(X_test)"
      ],
      "execution_count": 0,
      "outputs": []
    },
    {
      "cell_type": "markdown",
      "metadata": {
        "id": "1of2KDXei32u",
        "colab_type": "text"
      },
      "source": [
        "**3.Random Forest**"
      ]
    },
    {
      "cell_type": "code",
      "metadata": {
        "colab_type": "code",
        "id": "pdISOu71Bqvj",
        "colab": {}
      },
      "source": [
        "from sklearn.ensemble import RandomForestClassifier\n",
        "X_train,X_test,y_train,y_test=train_test_split(tfidf_vect_norm,Final_data['sentiment'].values,test_size=0.3,shuffle=False)\n",
        "rf = RandomForestClassifier(n_estimators = 100, criterion = 'entropy', random_state = 0)\n",
        "rf.fit(X_train, y_train)\n",
        "acc=rf.score(X_test,y_test)\n",
        "print(\"Accuracy using TFIDF: %0.2f%%\"%(acc*100))"
      ],
      "execution_count": 0,
      "outputs": []
    },
    {
      "cell_type": "code",
      "metadata": {
        "id": "jGCeZAH9m66L",
        "colab_type": "code",
        "colab": {}
      },
      "source": [
        "pred_rf=rf.predict(X_test)"
      ],
      "execution_count": 0,
      "outputs": []
    },
    {
      "cell_type": "code",
      "metadata": {
        "id": "Etd5g7ytlbhv",
        "colab_type": "code",
        "outputId": "e664a924-ea6d-4334-d8b6-6ea009a99227",
        "colab": {
          "base_uri": "https://localhost:8080/",
          "height": 286
        }
      },
      "source": [
        "from sklearn.metrics import confusion_matrix\n",
        "print(\"Confusion martrix for KNN is :- \\n\")\n",
        "print(confusion_matrix(y_test,pred_knn))\n",
        "print(\"Confusion martrix for Logistic Regression is :- \\n\")\n",
        "print(confusion_matrix(y_test,pred_lr))\n",
        "print(\"Confusion martrix for Decision tree is :- \\n\")\n",
        "print(confusion_matrix(y_test,pred_dt))\n",
        "print(\"Confusion martrix for Random Forest is :- \\n\")\n",
        "print(confusion_matrix(y_test,pred_rf))"
      ],
      "execution_count": 0,
      "outputs": [
        {
          "output_type": "stream",
          "text": [
            "Confusion martrix for KNN is :- \n",
            "\n",
            "[[5756 1625]\n",
            " [1042 6450]]\n",
            "Confusion martrix for Logistic Regression is :- \n",
            "\n",
            "[[6478  903]\n",
            " [ 686 6806]]\n",
            "Confusion martrix for Decision tree is :- \n",
            "\n",
            "[[5332 2049]\n",
            " [2094 5398]]\n",
            "Confusion martrix for Random Forest is :- \n",
            "\n",
            "[[6060 1321]\n",
            " [2127 5365]]\n"
          ],
          "name": "stdout"
        }
      ]
    },
    {
      "cell_type": "code",
      "metadata": {
        "id": "mxu50cQSnF2w",
        "colab_type": "code",
        "outputId": "cbc122ee-5b24-40b8-c6db-f39e81dc0ee4",
        "colab": {
          "base_uri": "https://localhost:8080/",
          "height": 368
        }
      },
      "source": [
        "Acc_knn = {\n",
        "    'KNN':0.82,\n",
        "    'Logistic Regression':0.89,\n",
        "    'Decision Tree':0.72,\n",
        "    'Random Forest':0.76\n",
        "}\n",
        "\n",
        "pd.Series(Acc_knn).plot(kind='bar')\n",
        "plt.ylabel(\"Accuracy\")\n",
        "plt.ylim((.65,.93))"
      ],
      "execution_count": 0,
      "outputs": [
        {
          "output_type": "execute_result",
          "data": {
            "text/plain": [
              "(0.65, 0.93)"
            ]
          },
          "metadata": {
            "tags": []
          },
          "execution_count": 90
        },
        {
          "output_type": "display_data",
          "data": {
            "image/png": "[encoded data removed]",
            "text/plain": [
              "<Figure size 432x288 with 1 Axes>"
            ]
          },
          "metadata": {
            "tags": []
          }
        }
      ]
    },
    {
      "cell_type": "markdown",
      "metadata": {
        "id": "LisG6fSaGCmo",
        "colab_type": "text"
      },
      "source": [
        "**Conclusion**"
      ]
    },
    {
      "cell_type": "markdown",
      "metadata": {
        "id": "THeZj-IwGOQu",
        "colab_type": "text"
      },
      "source": [
        "At the end we can conclude that the **TF-IDF** and **Logistic Regression** Works Better for this Sentimental Analysis"
      ]
    },
    {
      "cell_type": "markdown",
      "metadata": {
        "id": "3HE7WBFlGdzo",
        "colab_type": "text"
      },
      "source": [
        "**Refrences**"
      ]
    },
    {
      "cell_type": "markdown",
      "metadata": {
        "id": "YX1ExVWPGmWE",
        "colab_type": "text"
      },
      "source": [
        "1.   StackOver Flow\n",
        "2.   Geeks for Geeks\n",
        "3.   Kaggle\n",
        "\n"
      ]
    }
  ]
}