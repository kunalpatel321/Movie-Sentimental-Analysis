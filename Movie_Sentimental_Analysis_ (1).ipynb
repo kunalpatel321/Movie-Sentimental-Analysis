{
  "nbformat": 4,
  "nbformat_minor": 0,
  "metadata": {
    "colab": {
      "name": "Movie Sentimental Analysis .ipynb",
      "provenance": [],
      "collapsed_sections": []
    },
    "kernelspec": {
      "name": "python3",
      "display_name": "Python 3"
    },
    "accelerator": "TPU"
  },
  "cells": [
    {
      "cell_type": "markdown",
      "metadata": {
        "colab_type": "text",
        "id": "ecvA4rL-sKhK"
      },
      "source": [
        "**Movie Sentimental Analysis**"
      ]
    },
    {
      "cell_type": "markdown",
      "metadata": {
        "id": "7Os8cpLHsP4R",
        "colab_type": "text"
      },
      "source": [
        "**Source**:-https://www.kaggle.com/lakshmi25npathi/imdb-dataset-of-50k-movie-reviews\n",
        "\n",
        "IMDB dataset having 50K movie reviews for natural language processing or Text analytics.\n",
        "This is a dataset for binary sentiment classification containing substantially more data than previous benchmark datasets. We provide a set of 25,000 highly polar movie reviews for training and 25,000 for testing. So, predict the number of positive and negative reviews using either classification or deep learning algorithms.\n",
        "For more dataset information, please go through the following link,\n",
        "    http://ai.stanford.edu/~amaas/data/sentiment/\n",
        "\n",
        "**Objective**:-\n",
        "Given a review, determine whether the review is positive or negative\n",
        "\n",
        "**Attributes**:-\n",
        "\n",
        "1.Review-Text\n",
        "\n",
        "2.Sentiment-Positive or Negative\n",
        "\n",
        "\n",
        "\n"
      ]
    },
    {
      "cell_type": "code",
      "metadata": {
        "id": "EDAVohrFsL25",
        "colab_type": "code",
        "outputId": "a32d79d3-6ee7-48b2-b316-57b93f5b1dda",
        "colab": {
          "base_uri": "https://localhost:8080/",
          "height": 34
        }
      },
      "source": [
        "\n",
        "from google.colab import drive\n",
        "drive.mount('/content/drive/')"
      ],
      "execution_count": 2,
      "outputs": [
        {
          "output_type": "stream",
          "text": [
            "Drive already mounted at /content/drive/; to attempt to forcibly remount, call drive.mount(\"/content/drive/\", force_remount=True).\n"
          ],
          "name": "stdout"
        }
      ]
    },
    {
      "cell_type": "code",
      "metadata": {
        "id": "MMj-VCk2lERX",
        "colab_type": "code",
        "outputId": "b3c66651-b1d6-4095-d66e-15f3e12143eb",
        "colab": {
          "base_uri": "https://localhost:8080/",
          "height": 70
        }
      },
      "source": [
        "#Loading the essential Libraries\n",
        "import pandas as pd\n",
        "import numpy as np\n",
        "import nltk                             # nltk:- Natural Language Processing Toolkit\n",
        "import string\n",
        "import re\n",
        "import io\n",
        "import matplotlib.pyplot as plt\n",
        "import seaborn as sns\n",
        "from sklearn.feature_extraction.text import TfidfTransformer\n",
        "from sklearn.feature_extraction.text import TfidfVectorizer\n",
        "from sklearn.feature_extraction.text import CountVectorizer\n",
        "from sklearn.metrics import confusion_matrix\n",
        "from sklearn import metrics\n",
        "from sklearn.metrics import roc_curve, auc\n",
        "from nltk.stem.porter import PorterStemmer"
      ],
      "execution_count": 3,
      "outputs": [
        {
          "output_type": "stream",
          "text": [
            "/usr/local/lib/python3.6/dist-packages/statsmodels/tools/_testing.py:19: FutureWarning: pandas.util.testing is deprecated. Use the functions in the public API at pandas.testing instead.\n",
            "  import pandas.util.testing as tm\n"
          ],
          "name": "stderr"
        }
      ]
    },
    {
      "cell_type": "code",
      "metadata": {
        "id": "MlvdSPWaks18",
        "colab_type": "code",
        "colab": {}
      },
      "source": [
        "data=pd.read_csv(\"/content/drive/My Drive/IMDB.csv\")"
      ],
      "execution_count": 0,
      "outputs": []
    },
    {
      "cell_type": "code",
      "metadata": {
        "id": "cXfDSIyRlCcw",
        "colab_type": "code",
        "outputId": "0d7a32d8-7a9b-4b1d-d6a6-c2f2afbbda90",
        "colab": {
          "base_uri": "https://localhost:8080/",
          "height": 195
        }
      },
      "source": [
        "data.head()  # Top 5 Values"
      ],
      "execution_count": 5,
      "outputs": [
        {
          "output_type": "execute_result",
          "data": {
            "text/html": [
              "<div>\n",
              "<style scoped>\n",
              "    .dataframe tbody tr th:only-of-type {\n",
              "        vertical-align: middle;\n",
              "    }\n",
              "\n",
              "    .dataframe tbody tr th {\n",
              "        vertical-align: top;\n",
              "    }\n",
              "\n",
              "    .dataframe thead th {\n",
              "        text-align: right;\n",
              "    }\n",
              "</style>\n",
              "<table border=\"1\" class=\"dataframe\">\n",
              "  <thead>\n",
              "    <tr style=\"text-align: right;\">\n",
              "      <th></th>\n",
              "      <th>review</th>\n",
              "      <th>sentiment</th>\n",
              "    </tr>\n",
              "  </thead>\n",
              "  <tbody>\n",
              "    <tr>\n",
              "      <th>0</th>\n",
              "      <td>One of the other reviewers has mentioned that ...</td>\n",
              "      <td>positive</td>\n",
              "    </tr>\n",
              "    <tr>\n",
              "      <th>1</th>\n",
              "      <td>A wonderful little production. &lt;br /&gt;&lt;br /&gt;The...</td>\n",
              "      <td>positive</td>\n",
              "    </tr>\n",
              "    <tr>\n",
              "      <th>2</th>\n",
              "      <td>I thought this was a wonderful way to spend ti...</td>\n",
              "      <td>positive</td>\n",
              "    </tr>\n",
              "    <tr>\n",
              "      <th>3</th>\n",
              "      <td>Basically there's a family where a little boy ...</td>\n",
              "      <td>negative</td>\n",
              "    </tr>\n",
              "    <tr>\n",
              "      <th>4</th>\n",
              "      <td>Petter Mattei's \"Love in the Time of Money\" is...</td>\n",
              "      <td>positive</td>\n",
              "    </tr>\n",
              "  </tbody>\n",
              "</table>\n",
              "</div>"
            ],
            "text/plain": [
              "                                              review sentiment\n",
              "0  One of the other reviewers has mentioned that ...  positive\n",
              "1  A wonderful little production. <br /><br />The...  positive\n",
              "2  I thought this was a wonderful way to spend ti...  positive\n",
              "3  Basically there's a family where a little boy ...  negative\n",
              "4  Petter Mattei's \"Love in the Time of Money\" is...  positive"
            ]
          },
          "metadata": {
            "tags": []
          },
          "execution_count": 5
        }
      ]
    },
    {
      "cell_type": "code",
      "metadata": {
        "id": "JbQh3BkSlMVf",
        "colab_type": "code",
        "outputId": "daf1be1e-c27f-4f7b-c957-5489e15bec40",
        "colab": {
          "base_uri": "https://localhost:8080/",
          "height": 34
        }
      },
      "source": [
        "data.shape  # Data Shape (Rows And Columns)"
      ],
      "execution_count": 6,
      "outputs": [
        {
          "output_type": "execute_result",
          "data": {
            "text/plain": [
              "(50000, 2)"
            ]
          },
          "metadata": {
            "tags": []
          },
          "execution_count": 6
        }
      ]
    },
    {
      "cell_type": "code",
      "metadata": {
        "id": "y4qXTZLklOiN",
        "colab_type": "code",
        "outputId": "1908c8db-ef05-45a9-8b0f-8eaea0d58989",
        "colab": {
          "base_uri": "https://localhost:8080/",
          "height": 67
        }
      },
      "source": [
        "data['sentiment'].value_counts()"
      ],
      "execution_count": 7,
      "outputs": [
        {
          "output_type": "execute_result",
          "data": {
            "text/plain": [
              "positive    25000\n",
              "negative    25000\n",
              "Name: sentiment, dtype: int64"
            ]
          },
          "metadata": {
            "tags": []
          },
          "execution_count": 7
        }
      ]
    },
    {
      "cell_type": "code",
      "metadata": {
        "id": "YONSLDpclbPR",
        "colab_type": "code",
        "colab": {}
      },
      "source": [
        "d1=data.drop_duplicates(subset={'review'},keep=\"first\")"
      ],
      "execution_count": 0,
      "outputs": []
    },
    {
      "cell_type": "code",
      "metadata": {
        "id": "z6rqiH39l1IK",
        "colab_type": "code",
        "outputId": "0f7b4215-df05-4bc8-8347-eabb5a917ea6",
        "colab": {
          "base_uri": "https://localhost:8080/",
          "height": 34
        }
      },
      "source": [
        "d1.shape"
      ],
      "execution_count": 9,
      "outputs": [
        {
          "output_type": "execute_result",
          "data": {
            "text/plain": [
              "(49582, 2)"
            ]
          },
          "metadata": {
            "tags": []
          },
          "execution_count": 9
        }
      ]
    },
    {
      "cell_type": "code",
      "metadata": {
        "id": "cgwdg_8xl4VQ",
        "colab_type": "code",
        "outputId": "8afc2fa1-fc40-47d2-db9b-935aeff5f0fd",
        "colab": {
          "base_uri": "https://localhost:8080/",
          "height": 67
        }
      },
      "source": [
        "d1['sentiment'].value_counts()"
      ],
      "execution_count": 10,
      "outputs": [
        {
          "output_type": "execute_result",
          "data": {
            "text/plain": [
              "positive    24884\n",
              "negative    24698\n",
              "Name: sentiment, dtype: int64"
            ]
          },
          "metadata": {
            "tags": []
          },
          "execution_count": 10
        }
      ]
    },
    {
      "cell_type": "code",
      "metadata": {
        "id": "YcHEWDuxmGaO",
        "colab_type": "code",
        "outputId": "8f871c36-90c3-405f-88c5-5483ff07464f",
        "colab": {
          "base_uri": "https://localhost:8080/",
          "height": 195
        }
      },
      "source": [
        "d1.head()"
      ],
      "execution_count": 11,
      "outputs": [
        {
          "output_type": "execute_result",
          "data": {
            "text/html": [
              "<div>\n",
              "<style scoped>\n",
              "    .dataframe tbody tr th:only-of-type {\n",
              "        vertical-align: middle;\n",
              "    }\n",
              "\n",
              "    .dataframe tbody tr th {\n",
              "        vertical-align: top;\n",
              "    }\n",
              "\n",
              "    .dataframe thead th {\n",
              "        text-align: right;\n",
              "    }\n",
              "</style>\n",
              "<table border=\"1\" class=\"dataframe\">\n",
              "  <thead>\n",
              "    <tr style=\"text-align: right;\">\n",
              "      <th></th>\n",
              "      <th>review</th>\n",
              "      <th>sentiment</th>\n",
              "    </tr>\n",
              "  </thead>\n",
              "  <tbody>\n",
              "    <tr>\n",
              "      <th>0</th>\n",
              "      <td>One of the other reviewers has mentioned that ...</td>\n",
              "      <td>positive</td>\n",
              "    </tr>\n",
              "    <tr>\n",
              "      <th>1</th>\n",
              "      <td>A wonderful little production. &lt;br /&gt;&lt;br /&gt;The...</td>\n",
              "      <td>positive</td>\n",
              "    </tr>\n",
              "    <tr>\n",
              "      <th>2</th>\n",
              "      <td>I thought this was a wonderful way to spend ti...</td>\n",
              "      <td>positive</td>\n",
              "    </tr>\n",
              "    <tr>\n",
              "      <th>3</th>\n",
              "      <td>Basically there's a family where a little boy ...</td>\n",
              "      <td>negative</td>\n",
              "    </tr>\n",
              "    <tr>\n",
              "      <th>4</th>\n",
              "      <td>Petter Mattei's \"Love in the Time of Money\" is...</td>\n",
              "      <td>positive</td>\n",
              "    </tr>\n",
              "  </tbody>\n",
              "</table>\n",
              "</div>"
            ],
            "text/plain": [
              "                                              review sentiment\n",
              "0  One of the other reviewers has mentioned that ...  positive\n",
              "1  A wonderful little production. <br /><br />The...  positive\n",
              "2  I thought this was a wonderful way to spend ti...  positive\n",
              "3  Basically there's a family where a little boy ...  negative\n",
              "4  Petter Mattei's \"Love in the Time of Money\" is...  positive"
            ]
          },
          "metadata": {
            "tags": []
          },
          "execution_count": 11
        }
      ]
    },
    {
      "cell_type": "code",
      "metadata": {
        "id": "mIss7x8xmYAv",
        "colab_type": "code",
        "colab": {}
      },
      "source": [
        "# https://stackoverflow.com/a/47091490/4084039      # This function will convert words like 'won't' to 'will not',can\\'t to cannot etc.\n",
        "import re\n",
        "\n",
        "def decontracted(phrase):\n",
        "    \n",
        "    phrase = re.sub(r\"won't\", \"will not\", phrase)   \n",
        "    phrase = re.sub(r\"can\\'t\", \"can not\", phrase)\n",
        "    phrase = re.sub(r\"n\\'t\", \" not\", phrase)\n",
        "    phrase = re.sub(r\"\\'re\", \" are\", phrase)\n",
        "    phrase = re.sub(r\"\\'s\", \" is\", phrase)\n",
        "    phrase = re.sub(r\"\\'d\", \" would\", phrase)\n",
        "    phrase = re.sub(r\"\\'ll\", \" will\", phrase)\n",
        "    phrase = re.sub(r\"\\'t\", \" not\", phrase)\n",
        "    phrase = re.sub(r\"\\'ve\", \" have\", phrase)\n",
        "    phrase = re.sub(r\"\\'m\", \" am\", phrase)\n",
        "    return phrase"
      ],
      "execution_count": 0,
      "outputs": []
    },
    {
      "cell_type": "code",
      "metadata": {
        "id": "cHwoWNIlnoJc",
        "colab_type": "code",
        "colab": {}
      },
      "source": [
        "#https://stackoverflow.com/questions/9662346/python-code-to-remove-html-tags-from-a-string    #Will Remove HTML tags from sentance \n",
        "\n",
        "def removehtml(sent):\n",
        "    cleanr = re.compile('<.*?>')\n",
        "    cleartext = re.sub(cleanr, ' ', sent)\n",
        "    return cleartext"
      ],
      "execution_count": 0,
      "outputs": []
    },
    {
      "cell_type": "code",
      "metadata": {
        "id": "iwxqkkATu9il",
        "colab_type": "code",
        "colab": {}
      },
      "source": [
        "#Will Remove Puntuation's from sentance\n",
        "def cleanpunc(sentence):         \n",
        "    cleaned = re.sub(r'[?|!|\\'|\"|#]',r'',sentence)\n",
        "    cleaned = re.sub(r'[.|,|)|(|\\|/]',r' ',cleaned)\n",
        "    return  cleaned"
      ],
      "execution_count": 0,
      "outputs": []
    },
    {
      "cell_type": "code",
      "metadata": {
        "id": "yXfeO118qo44",
        "colab_type": "code",
        "colab": {}
      },
      "source": [
        "stopwords= ['i', 'me', 'my', 'myself', 'we', 'our', 'ours', 'ourselves', 'you', \"you're\", \"you've\",\\\n",
        "            \"you'll\", \"you'd\", 'your', 'yours', 'yourself', 'yourselves', 'he', 'him', 'his', 'himself', \\\n",
        "            'she', \"she's\", 'her', 'hers', 'herself', 'it', \"it's\", 'its', 'itself', 'they', 'them', 'their',\\\n",
        "            'theirs', 'themselves', 'what', 'which', 'who', 'whom', 'this', 'that', \"that'll\", 'these', 'those', \\\n",
        "            'am', 'is', 'are', 'was', 'were', 'be', 'been', 'being', 'have', 'has', 'had', 'having', 'do', 'does', \\\n",
        "            'did', 'doing', 'a', 'an', 'the', 'and', 'but', 'if', 'or', 'because', 'as', 'until', 'while', 'of', \\\n",
        "            'at', 'by', 'for', 'with', 'about', 'against', 'between', 'into', 'through', 'during', 'before', 'after',\\\n",
        "            'above', 'below', 'to', 'from', 'up', 'down', 'in', 'out', 'on', 'off', 'over', 'under', 'again', 'further',\\\n",
        "            'then', 'once', 'here', 'there', 'when', 'where', 'why', 'how', 'all', 'any', 'both', 'each', 'few', 'more',\\\n",
        "            'most', 'other', 'some', 'such', 'only', 'own', 'same', 'so', 'than', 'too', 'very', \\\n",
        "            's', 't', 'can', 'will', 'just', 'don', \"don't\", 'should', \"should've\", 'now', 'd', 'll', 'm', 'o', 're', \\\n",
        "            've', 'y', 'ain', 'aren', \"aren't\", 'couldn', \"couldn't\", 'didn', \"didn't\", 'doesn', \"doesn't\", 'hadn',\\\n",
        "            \"hadn't\", 'hasn', \"hasn't\", 'haven', \"haven't\", 'isn', \"isn't\", 'ma', 'mightn', \"mightn't\", 'mustn',\\\n",
        "            \"mustn't\", 'needn', \"needn't\", 'shan', \"shan't\", 'shouldn', \"shouldn't\", 'wasn', \"wasn't\", 'weren', \"weren't\", \\\n",
        "            'won', \"won't\", 'wouldn', \"wouldn't\"]"
      ],
      "execution_count": 0,
      "outputs": []
    },
    {
      "cell_type": "code",
      "metadata": {
        "id": "-NXQ-Xl6ttyo",
        "colab_type": "code",
        "outputId": "350fc683-ead8-4605-85d9-cd58ff049c44",
        "colab": {
          "base_uri": "https://localhost:8080/",
          "height": 34
        }
      },
      "source": [
        "# This Will remove stopwords from sentance.\n",
        "from tqdm import tqdm\n",
        "filtered_review=[]\n",
        "\n",
        "for sent in tqdm(data['review'].values):\n",
        "  sent=decontracted(sent)\n",
        "  sent=removehtml(sent)\n",
        "  sent=cleanpunc(sent)\n",
        "  sent=re.sub('[^A-Za-z0-9]+', ' ',sent)\n",
        "  sent=sent.replace(\"\\'\", \"\")\n",
        "  \n",
        "  sent=' '.join(i for i in sent.split() if i.lower() not in stopwords)\n",
        "  filtered_review.append(sent.lower().strip())"
      ],
      "execution_count": 16,
      "outputs": [
        {
          "output_type": "stream",
          "text": [
            "100%|██████████| 50000/50000 [00:27<00:00, 1808.92it/s]\n"
          ],
          "name": "stderr"
        }
      ]
    },
    {
      "cell_type": "code",
      "metadata": {
        "id": "05__TzYotBC2",
        "colab_type": "code",
        "outputId": "50632aa5-a7df-4e18-f904-0d08ae68b983",
        "colab": {
          "base_uri": "https://localhost:8080/",
          "height": 195
        }
      },
      "source": [
        "data.head()"
      ],
      "execution_count": 17,
      "outputs": [
        {
          "output_type": "execute_result",
          "data": {
            "text/html": [
              "<div>\n",
              "<style scoped>\n",
              "    .dataframe tbody tr th:only-of-type {\n",
              "        vertical-align: middle;\n",
              "    }\n",
              "\n",
              "    .dataframe tbody tr th {\n",
              "        vertical-align: top;\n",
              "    }\n",
              "\n",
              "    .dataframe thead th {\n",
              "        text-align: right;\n",
              "    }\n",
              "</style>\n",
              "<table border=\"1\" class=\"dataframe\">\n",
              "  <thead>\n",
              "    <tr style=\"text-align: right;\">\n",
              "      <th></th>\n",
              "      <th>review</th>\n",
              "      <th>sentiment</th>\n",
              "    </tr>\n",
              "  </thead>\n",
              "  <tbody>\n",
              "    <tr>\n",
              "      <th>0</th>\n",
              "      <td>One of the other reviewers has mentioned that ...</td>\n",
              "      <td>positive</td>\n",
              "    </tr>\n",
              "    <tr>\n",
              "      <th>1</th>\n",
              "      <td>A wonderful little production. &lt;br /&gt;&lt;br /&gt;The...</td>\n",
              "      <td>positive</td>\n",
              "    </tr>\n",
              "    <tr>\n",
              "      <th>2</th>\n",
              "      <td>I thought this was a wonderful way to spend ti...</td>\n",
              "      <td>positive</td>\n",
              "    </tr>\n",
              "    <tr>\n",
              "      <th>3</th>\n",
              "      <td>Basically there's a family where a little boy ...</td>\n",
              "      <td>negative</td>\n",
              "    </tr>\n",
              "    <tr>\n",
              "      <th>4</th>\n",
              "      <td>Petter Mattei's \"Love in the Time of Money\" is...</td>\n",
              "      <td>positive</td>\n",
              "    </tr>\n",
              "  </tbody>\n",
              "</table>\n",
              "</div>"
            ],
            "text/plain": [
              "                                              review sentiment\n",
              "0  One of the other reviewers has mentioned that ...  positive\n",
              "1  A wonderful little production. <br /><br />The...  positive\n",
              "2  I thought this was a wonderful way to spend ti...  positive\n",
              "3  Basically there's a family where a little boy ...  negative\n",
              "4  Petter Mattei's \"Love in the Time of Money\" is...  positive"
            ]
          },
          "metadata": {
            "tags": []
          },
          "execution_count": 17
        }
      ]
    },
    {
      "cell_type": "code",
      "metadata": {
        "id": "BvUA6tEqztZh",
        "colab_type": "code",
        "colab": {}
      },
      "source": [
        "from nltk.stem import SnowballStemmer\n",
        "snow=SnowballStemmer('english')"
      ],
      "execution_count": 0,
      "outputs": []
    },
    {
      "cell_type": "code",
      "metadata": {
        "id": "W8rfUU7x2B8A",
        "colab_type": "code",
        "colab": {}
      },
      "source": [
        "data['New_review']=filtered_review"
      ],
      "execution_count": 0,
      "outputs": []
    },
    {
      "cell_type": "code",
      "metadata": {
        "id": "Z6y9Zky50d-3",
        "colab_type": "code",
        "outputId": "dcbccda2-6abe-448a-f278-4935e3e0cf41",
        "colab": {
          "base_uri": "https://localhost:8080/",
          "height": 34
        }
      },
      "source": [
        "from tqdm import tqdm\n",
        "Final_review=[]\n",
        "for i in tqdm(data['New_review'].values):\n",
        "  s=snow.stem(i.lower())\n",
        "  Final_review.append(s)\n"
      ],
      "execution_count": 20,
      "outputs": [
        {
          "output_type": "stream",
          "text": [
            "100%|██████████| 50000/50000 [00:06<00:00, 7831.31it/s]\n"
          ],
          "name": "stderr"
        }
      ]
    },
    {
      "cell_type": "code",
      "metadata": {
        "id": "WK-lFGcP0okT",
        "colab_type": "code",
        "outputId": "79513a09-34a7-4268-e9d2-893ef43bbdb3",
        "colab": {
          "base_uri": "https://localhost:8080/",
          "height": 195
        }
      },
      "source": [
        "data.head()"
      ],
      "execution_count": 21,
      "outputs": [
        {
          "output_type": "execute_result",
          "data": {
            "text/html": [
              "<div>\n",
              "<style scoped>\n",
              "    .dataframe tbody tr th:only-of-type {\n",
              "        vertical-align: middle;\n",
              "    }\n",
              "\n",
              "    .dataframe tbody tr th {\n",
              "        vertical-align: top;\n",
              "    }\n",
              "\n",
              "    .dataframe thead th {\n",
              "        text-align: right;\n",
              "    }\n",
              "</style>\n",
              "<table border=\"1\" class=\"dataframe\">\n",
              "  <thead>\n",
              "    <tr style=\"text-align: right;\">\n",
              "      <th></th>\n",
              "      <th>review</th>\n",
              "      <th>sentiment</th>\n",
              "      <th>New_review</th>\n",
              "    </tr>\n",
              "  </thead>\n",
              "  <tbody>\n",
              "    <tr>\n",
              "      <th>0</th>\n",
              "      <td>One of the other reviewers has mentioned that ...</td>\n",
              "      <td>positive</td>\n",
              "      <td>one reviewers mentioned watching 1 oz episode ...</td>\n",
              "    </tr>\n",
              "    <tr>\n",
              "      <th>1</th>\n",
              "      <td>A wonderful little production. &lt;br /&gt;&lt;br /&gt;The...</td>\n",
              "      <td>positive</td>\n",
              "      <td>wonderful little production filming technique ...</td>\n",
              "    </tr>\n",
              "    <tr>\n",
              "      <th>2</th>\n",
              "      <td>I thought this was a wonderful way to spend ti...</td>\n",
              "      <td>positive</td>\n",
              "      <td>thought wonderful way spend time hot summer we...</td>\n",
              "    </tr>\n",
              "    <tr>\n",
              "      <th>3</th>\n",
              "      <td>Basically there's a family where a little boy ...</td>\n",
              "      <td>negative</td>\n",
              "      <td>basically family little boy jake thinks zombie...</td>\n",
              "    </tr>\n",
              "    <tr>\n",
              "      <th>4</th>\n",
              "      <td>Petter Mattei's \"Love in the Time of Money\" is...</td>\n",
              "      <td>positive</td>\n",
              "      <td>petter mattei love time money visually stunnin...</td>\n",
              "    </tr>\n",
              "  </tbody>\n",
              "</table>\n",
              "</div>"
            ],
            "text/plain": [
              "                                              review  ...                                         New_review\n",
              "0  One of the other reviewers has mentioned that ...  ...  one reviewers mentioned watching 1 oz episode ...\n",
              "1  A wonderful little production. <br /><br />The...  ...  wonderful little production filming technique ...\n",
              "2  I thought this was a wonderful way to spend ti...  ...  thought wonderful way spend time hot summer we...\n",
              "3  Basically there's a family where a little boy ...  ...  basically family little boy jake thinks zombie...\n",
              "4  Petter Mattei's \"Love in the Time of Money\" is...  ...  petter mattei love time money visually stunnin...\n",
              "\n",
              "[5 rows x 3 columns]"
            ]
          },
          "metadata": {
            "tags": []
          },
          "execution_count": 21
        }
      ]
    },
    {
      "cell_type": "code",
      "metadata": {
        "id": "IbI-FC793y8n",
        "colab_type": "code",
        "colab": {}
      },
      "source": [
        "data.drop(['review','New_review'],axis=1,inplace=True)"
      ],
      "execution_count": 0,
      "outputs": []
    },
    {
      "cell_type": "code",
      "metadata": {
        "id": "gsisNLFR3_rI",
        "colab_type": "code",
        "outputId": "9527b906-f677-421f-b7a4-9d52db37ac81",
        "colab": {
          "base_uri": "https://localhost:8080/",
          "height": 195
        }
      },
      "source": [
        "data.head()"
      ],
      "execution_count": 23,
      "outputs": [
        {
          "output_type": "execute_result",
          "data": {
            "text/html": [
              "<div>\n",
              "<style scoped>\n",
              "    .dataframe tbody tr th:only-of-type {\n",
              "        vertical-align: middle;\n",
              "    }\n",
              "\n",
              "    .dataframe tbody tr th {\n",
              "        vertical-align: top;\n",
              "    }\n",
              "\n",
              "    .dataframe thead th {\n",
              "        text-align: right;\n",
              "    }\n",
              "</style>\n",
              "<table border=\"1\" class=\"dataframe\">\n",
              "  <thead>\n",
              "    <tr style=\"text-align: right;\">\n",
              "      <th></th>\n",
              "      <th>sentiment</th>\n",
              "    </tr>\n",
              "  </thead>\n",
              "  <tbody>\n",
              "    <tr>\n",
              "      <th>0</th>\n",
              "      <td>positive</td>\n",
              "    </tr>\n",
              "    <tr>\n",
              "      <th>1</th>\n",
              "      <td>positive</td>\n",
              "    </tr>\n",
              "    <tr>\n",
              "      <th>2</th>\n",
              "      <td>positive</td>\n",
              "    </tr>\n",
              "    <tr>\n",
              "      <th>3</th>\n",
              "      <td>negative</td>\n",
              "    </tr>\n",
              "    <tr>\n",
              "      <th>4</th>\n",
              "      <td>positive</td>\n",
              "    </tr>\n",
              "  </tbody>\n",
              "</table>\n",
              "</div>"
            ],
            "text/plain": [
              "  sentiment\n",
              "0  positive\n",
              "1  positive\n",
              "2  positive\n",
              "3  negative\n",
              "4  positive"
            ]
          },
          "metadata": {
            "tags": []
          },
          "execution_count": 23
        }
      ]
    },
    {
      "cell_type": "code",
      "metadata": {
        "id": "CDZQJcbv4xKD",
        "colab_type": "code",
        "colab": {}
      },
      "source": [
        "\n",
        "data['Cleaned_review']=Final_review"
      ],
      "execution_count": 0,
      "outputs": []
    },
    {
      "cell_type": "code",
      "metadata": {
        "id": "mdgEHwCQ4-BK",
        "colab_type": "code",
        "outputId": "35040a90-bfaa-42a0-c3ed-0ac23aa59387",
        "colab": {
          "base_uri": "https://localhost:8080/",
          "height": 195
        }
      },
      "source": [
        "data.head()"
      ],
      "execution_count": 25,
      "outputs": [
        {
          "output_type": "execute_result",
          "data": {
            "text/html": [
              "<div>\n",
              "<style scoped>\n",
              "    .dataframe tbody tr th:only-of-type {\n",
              "        vertical-align: middle;\n",
              "    }\n",
              "\n",
              "    .dataframe tbody tr th {\n",
              "        vertical-align: top;\n",
              "    }\n",
              "\n",
              "    .dataframe thead th {\n",
              "        text-align: right;\n",
              "    }\n",
              "</style>\n",
              "<table border=\"1\" class=\"dataframe\">\n",
              "  <thead>\n",
              "    <tr style=\"text-align: right;\">\n",
              "      <th></th>\n",
              "      <th>sentiment</th>\n",
              "      <th>Cleaned_review</th>\n",
              "    </tr>\n",
              "  </thead>\n",
              "  <tbody>\n",
              "    <tr>\n",
              "      <th>0</th>\n",
              "      <td>positive</td>\n",
              "      <td>one reviewers mentioned watching 1 oz episode ...</td>\n",
              "    </tr>\n",
              "    <tr>\n",
              "      <th>1</th>\n",
              "      <td>positive</td>\n",
              "      <td>wonderful little production filming technique ...</td>\n",
              "    </tr>\n",
              "    <tr>\n",
              "      <th>2</th>\n",
              "      <td>positive</td>\n",
              "      <td>thought wonderful way spend time hot summer we...</td>\n",
              "    </tr>\n",
              "    <tr>\n",
              "      <th>3</th>\n",
              "      <td>negative</td>\n",
              "      <td>basically family little boy jake thinks zombie...</td>\n",
              "    </tr>\n",
              "    <tr>\n",
              "      <th>4</th>\n",
              "      <td>positive</td>\n",
              "      <td>petter mattei love time money visually stunnin...</td>\n",
              "    </tr>\n",
              "  </tbody>\n",
              "</table>\n",
              "</div>"
            ],
            "text/plain": [
              "  sentiment                                     Cleaned_review\n",
              "0  positive  one reviewers mentioned watching 1 oz episode ...\n",
              "1  positive  wonderful little production filming technique ...\n",
              "2  positive  thought wonderful way spend time hot summer we...\n",
              "3  negative  basically family little boy jake thinks zombie...\n",
              "4  positive  petter mattei love time money visually stunnin..."
            ]
          },
          "metadata": {
            "tags": []
          },
          "execution_count": 25
        }
      ]
    },
    {
      "cell_type": "code",
      "metadata": {
        "id": "9BxYXvEA5IoH",
        "colab_type": "code",
        "outputId": "7185b2e0-7c82-4b4c-81a9-33feffa97559",
        "colab": {
          "base_uri": "https://localhost:8080/",
          "height": 34
        }
      },
      "source": [
        "data.shape"
      ],
      "execution_count": 26,
      "outputs": [
        {
          "output_type": "execute_result",
          "data": {
            "text/plain": [
              "(50000, 2)"
            ]
          },
          "metadata": {
            "tags": []
          },
          "execution_count": 26
        }
      ]
    },
    {
      "cell_type": "code",
      "metadata": {
        "id": "qE8PV7eN5PSL",
        "colab_type": "code",
        "colab": {}
      },
      "source": [
        "# This is the Final data we will be use for preprocessing\n",
        "Final_data=data.drop_duplicates(subset={'Cleaned_review'},keep=\"first\")"
      ],
      "execution_count": 0,
      "outputs": []
    },
    {
      "cell_type": "code",
      "metadata": {
        "id": "L_JLR3vf58dB",
        "colab_type": "code",
        "outputId": "345a871f-62f3-42d6-f816-ed52902aa496",
        "colab": {
          "base_uri": "https://localhost:8080/",
          "height": 195
        }
      },
      "source": [
        "Final_data.head()"
      ],
      "execution_count": 28,
      "outputs": [
        {
          "output_type": "execute_result",
          "data": {
            "text/html": [
              "<div>\n",
              "<style scoped>\n",
              "    .dataframe tbody tr th:only-of-type {\n",
              "        vertical-align: middle;\n",
              "    }\n",
              "\n",
              "    .dataframe tbody tr th {\n",
              "        vertical-align: top;\n",
              "    }\n",
              "\n",
              "    .dataframe thead th {\n",
              "        text-align: right;\n",
              "    }\n",
              "</style>\n",
              "<table border=\"1\" class=\"dataframe\">\n",
              "  <thead>\n",
              "    <tr style=\"text-align: right;\">\n",
              "      <th></th>\n",
              "      <th>sentiment</th>\n",
              "      <th>Cleaned_review</th>\n",
              "    </tr>\n",
              "  </thead>\n",
              "  <tbody>\n",
              "    <tr>\n",
              "      <th>0</th>\n",
              "      <td>positive</td>\n",
              "      <td>one reviewers mentioned watching 1 oz episode ...</td>\n",
              "    </tr>\n",
              "    <tr>\n",
              "      <th>1</th>\n",
              "      <td>positive</td>\n",
              "      <td>wonderful little production filming technique ...</td>\n",
              "    </tr>\n",
              "    <tr>\n",
              "      <th>2</th>\n",
              "      <td>positive</td>\n",
              "      <td>thought wonderful way spend time hot summer we...</td>\n",
              "    </tr>\n",
              "    <tr>\n",
              "      <th>3</th>\n",
              "      <td>negative</td>\n",
              "      <td>basically family little boy jake thinks zombie...</td>\n",
              "    </tr>\n",
              "    <tr>\n",
              "      <th>4</th>\n",
              "      <td>positive</td>\n",
              "      <td>petter mattei love time money visually stunnin...</td>\n",
              "    </tr>\n",
              "  </tbody>\n",
              "</table>\n",
              "</div>"
            ],
            "text/plain": [
              "  sentiment                                     Cleaned_review\n",
              "0  positive  one reviewers mentioned watching 1 oz episode ...\n",
              "1  positive  wonderful little production filming technique ...\n",
              "2  positive  thought wonderful way spend time hot summer we...\n",
              "3  negative  basically family little boy jake thinks zombie...\n",
              "4  positive  petter mattei love time money visually stunnin..."
            ]
          },
          "metadata": {
            "tags": []
          },
          "execution_count": 28
        }
      ]
    },
    {
      "cell_type": "code",
      "metadata": {
        "id": "c9BH3RMs5_Rf",
        "colab_type": "code",
        "outputId": "274aad10-2a95-44f3-b45a-416055953c7a",
        "colab": {
          "base_uri": "https://localhost:8080/",
          "height": 34
        }
      },
      "source": [
        "Final_data.shape"
      ],
      "execution_count": 29,
      "outputs": [
        {
          "output_type": "execute_result",
          "data": {
            "text/plain": [
              "(49575, 2)"
            ]
          },
          "metadata": {
            "tags": []
          },
          "execution_count": 29
        }
      ]
    },
    {
      "cell_type": "markdown",
      "metadata": {
        "id": "LJ-SIjpb1XAM",
        "colab_type": "text"
      },
      "source": [
        "**Ways Convert text to Vector**"
      ]
    },
    {
      "cell_type": "markdown",
      "metadata": {
        "id": "uUUVJnFr1l6X",
        "colab_type": "text"
      },
      "source": [
        "**1.Uni Gram(BOW)**"
      ]
    },
    {
      "cell_type": "code",
      "metadata": {
        "id": "HUH9sxCa1oxp",
        "colab_type": "code",
        "outputId": "f5662e57-e239-40e8-8100-fcf3a3704e89",
        "colab": {
          "base_uri": "https://localhost:8080/",
          "height": 34
        }
      },
      "source": [
        "uni_gram=CountVectorizer()\n",
        "uni_vectors=uni_gram.fit_transform(Final_data['Cleaned_review'].values)\n",
        "uni_vectors.shape"
      ],
      "execution_count": 0,
      "outputs": [
        {
          "output_type": "execute_result",
          "data": {
            "text/plain": [
              "(49575, 104912)"
            ]
          },
          "metadata": {
            "tags": []
          },
          "execution_count": 31
        }
      ]
    },
    {
      "cell_type": "code",
      "metadata": {
        "id": "XiDETv8B2kIy",
        "colab_type": "code",
        "outputId": "a64fc3e8-645f-4eec-de16-64e3a7f0c88f",
        "colab": {
          "base_uri": "https://localhost:8080/",
          "height": 34
        }
      },
      "source": [
        "from sklearn import preprocessing\n",
        "uni_vect_norm=preprocessing.normalize(uni_vectors)\n",
        "uni_vect_norm.shape"
      ],
      "execution_count": 0,
      "outputs": [
        {
          "output_type": "execute_result",
          "data": {
            "text/plain": [
              "(49575, 104912)"
            ]
          },
          "metadata": {
            "tags": []
          },
          "execution_count": 32
        }
      ]
    },
    {
      "cell_type": "code",
      "metadata": {
        "id": "N_fQLnOg_H1C",
        "colab_type": "code",
        "colab": {}
      },
      "source": [
        "from sklearn.model_selection import train_test_split"
      ],
      "execution_count": 0,
      "outputs": []
    },
    {
      "cell_type": "code",
      "metadata": {
        "id": "GlZ2F0UK3NOh",
        "colab_type": "code",
        "colab": {}
      },
      "source": [
        "X_train,X_test,y_train,y_test=train_test_split(uni_vect_norm,Final_data['sentiment'].values,test_size=0.3,shuffle=False)"
      ],
      "execution_count": 0,
      "outputs": []
    },
    {
      "cell_type": "code",
      "metadata": {
        "id": "RJbBqLUeBB7_",
        "colab_type": "code",
        "colab": {}
      },
      "source": [
        "from sklearn.neighbors import KNeighborsClassifier\n",
        "from sklearn.model_selection import TimeSeriesSplit"
      ],
      "execution_count": 0,
      "outputs": []
    },
    {
      "cell_type": "code",
      "metadata": {
        "id": "syCWo2bp_HQN",
        "colab_type": "code",
        "outputId": "17de6215-cc1d-493b-eabc-158df98af057",
        "colab": {
          "base_uri": "https://localhost:8080/",
          "height": 470
        }
      },
      "source": [
        "from tqdm import tqdm\n",
        "neigh_near = 50\n",
        "tscv = TimeSeriesSplit(n_splits=10)\n",
        "cv_scores = []\n",
        "mylist = list(range(0, 51))\n",
        "neighbors = list(filter(lambda x: x % 2 != 0, mylist))\n",
        "\n",
        "for k in tqdm(neighbors):\n",
        "    tmp = []\n",
        "    for train, cv in tscv.split(X_train):\n",
        "        knn = KNeighborsClassifier(n_neighbors=k)\n",
        "        knn.fit(X_train[train], y_train[train])\n",
        "        tmp.append(knn.score(X_train[cv], y_train[cv]) * 100)\n",
        "    tmp = np.array(tmp)\n",
        "    cv_scores.append(tmp.mean())"
      ],
      "execution_count": 0,
      "outputs": [
        {
          "output_type": "stream",
          "text": [
            "\n",
            "  0%|          | 0/25 [00:00<?, ?it/s]\u001b[A\n",
            "  4%|▍         | 1/25 [00:43<17:20, 43.37s/it]\u001b[A\n",
            "  8%|▊         | 2/25 [01:28<16:47, 43.80s/it]\u001b[A\n",
            " 12%|█▏        | 3/25 [02:15<16:28, 44.95s/it]\u001b[A\n",
            " 16%|█▌        | 4/25 [03:03<16:00, 45.76s/it]\u001b[A\n",
            " 20%|██        | 5/25 [03:51<15:27, 46.36s/it]\u001b[A\n",
            " 24%|██▍       | 6/25 [04:38<14:48, 46.77s/it]\u001b[A\n",
            " 28%|██▊       | 7/25 [05:26<14:06, 47.03s/it]\u001b[A\n",
            " 32%|███▏      | 8/25 [06:14<13:22, 47.23s/it]\u001b[A\n",
            " 36%|███▌      | 9/25 [07:01<12:35, 47.23s/it]\u001b[A\n",
            " 40%|████      | 10/25 [07:48<11:45, 47.05s/it]\u001b[A\n",
            " 44%|████▍     | 11/25 [08:33<10:53, 46.67s/it]\u001b[A\n",
            " 48%|████▊     | 12/25 [09:19<10:03, 46.42s/it]\u001b[A\n",
            " 52%|█████▏    | 13/25 [10:05<09:15, 46.33s/it]\u001b[A\n",
            " 56%|█████▌    | 14/25 [10:52<08:30, 46.38s/it]\u001b[A\n",
            " 60%|██████    | 15/25 [11:38<07:42, 46.30s/it]\u001b[A\n",
            " 64%|██████▍   | 16/25 [12:25<06:57, 46.39s/it]\u001b[A\n",
            " 68%|██████▊   | 17/25 [13:11<06:12, 46.53s/it]\u001b[A\n",
            " 72%|███████▏  | 18/25 [13:58<05:25, 46.56s/it]\u001b[A\n",
            " 76%|███████▌  | 19/25 [14:45<04:39, 46.59s/it]\u001b[A\n",
            " 80%|████████  | 20/25 [15:31<03:53, 46.62s/it]\u001b[A\n",
            " 84%|████████▍ | 21/25 [16:18<03:06, 46.62s/it]\u001b[A\n",
            " 88%|████████▊ | 22/25 [17:05<02:19, 46.63s/it]\u001b[A\n",
            " 92%|█████████▏| 23/25 [17:51<01:33, 46.61s/it]\u001b[A\n",
            " 96%|█████████▌| 24/25 [18:38<00:46, 46.54s/it]\u001b[A\n",
            "100%|██████████| 25/25 [19:24<00:00, 46.58s/it]\n"
          ],
          "name": "stderr"
        }
      ]
    },
    {
      "cell_type": "code",
      "metadata": {
        "id": "2PgUY3TDO_bD",
        "colab_type": "code",
        "colab": {}
      },
      "source": [
        "mse = [1 - x for x in cv_scores]\n",
        "best_k = neighbors[mse.index(min(mse))]"
      ],
      "execution_count": 0,
      "outputs": []
    },
    {
      "cell_type": "code",
      "metadata": {
        "id": "_C0Fu_pk6xbL",
        "colab_type": "code",
        "outputId": "d996fd43-0086-4a10-d499-780e8c3f20bf",
        "colab": {
          "base_uri": "https://localhost:8080/",
          "height": 421
        }
      },
      "source": [
        "plt.figure(figsize=(10,6))\n",
        "plt.plot(np.arange(1, neigh_near, 2), cv_scores)\n",
        "plt.xlabel(\"KNN\")\n",
        "plt.ylabel(\"Accuracy\")\n",
        "plt.title(\"Accuracy for different k values\")\n",
        "plt.show()\n",
        "print('The best k value is : %d' %best_k)\n"
      ],
      "execution_count": 0,
      "outputs": [
        {
          "output_type": "display_data",
          "data": {
            "image/png": "[encoded data removed]",
            "text/plain": [
              "<Figure size 720x432 with 1 Axes>"
            ]
          },
          "metadata": {
            "tags": []
          }
        },
        {
          "output_type": "stream",
          "text": [
            "The best k value is : 19\n"
          ],
          "name": "stdout"
        }
      ]
    },
    {
      "cell_type": "code",
      "metadata": {
        "id": "M303l3pfO-lg",
        "colab_type": "code",
        "outputId": "112fe6b3-04fe-4ee4-cc61-d1c49da24423",
        "colab": {
          "base_uri": "https://localhost:8080/",
          "height": 34
        }
      },
      "source": [
        "knn=KNeighborsClassifier(n_neighbors=best_k)\n",
        "knn.fit(X_train,y_train)\n",
        "acc=knn.score(X_test,y_test)\n",
        "print(\"Accuracy using Uni-Gram: %0.3f%%\"%(acc*100))"
      ],
      "execution_count": 0,
      "outputs": [
        {
          "output_type": "stream",
          "text": [
            "Accuracy using Uni-Gram: 73.919%\n"
          ],
          "name": "stdout"
        }
      ]
    },
    {
      "cell_type": "markdown",
      "metadata": {
        "id": "fWUf-akxUzNE",
        "colab_type": "text"
      },
      "source": [
        "**2.Bi-Gram(BOW)**"
      ]
    },
    {
      "cell_type": "code",
      "metadata": {
        "id": "bKrOvO78U3uR",
        "colab_type": "code",
        "outputId": "1a45f70c-3d99-4b1c-8410-09e4b3d95d0d",
        "colab": {
          "base_uri": "https://localhost:8080/",
          "height": 34
        }
      },
      "source": [
        "bi_gram=CountVectorizer(ngram_range=(1,2))\n",
        "bi_vect=bi_gram.fit_transform(Final_data['Cleaned_review'].values)\n",
        "bi_vect.shape"
      ],
      "execution_count": 0,
      "outputs": [
        {
          "output_type": "execute_result",
          "data": {
            "text/plain": [
              "(49575, 3213257)"
            ]
          },
          "metadata": {
            "tags": []
          },
          "execution_count": 35
        }
      ]
    },
    {
      "cell_type": "code",
      "metadata": {
        "id": "WEf3QtnJVW6P",
        "colab_type": "code",
        "colab": {}
      },
      "source": [
        "bi_vect_norm=preprocessing.normalize(bi_vect)"
      ],
      "execution_count": 0,
      "outputs": []
    },
    {
      "cell_type": "code",
      "metadata": {
        "id": "SRV36CyYVtYt",
        "colab_type": "code",
        "colab": {}
      },
      "source": [
        "X_train,X_test,y_train,y_test=train_test_split(bi_vect_norm,Final_data['sentiment'].values,test_size=0.3,shuffle=False)"
      ],
      "execution_count": 0,
      "outputs": []
    },
    {
      "cell_type": "code",
      "metadata": {
        "id": "OGVGvH_hV5_J",
        "colab_type": "code",
        "outputId": "840d6969-682e-4a87-e2cd-f7a8c46572ae",
        "colab": {
          "base_uri": "https://localhost:8080/",
          "height": 34
        }
      },
      "source": [
        "from tqdm import tqdm\n",
        "neigh_near = 50\n",
        "tscv = TimeSeriesSplit(n_splits=10)\n",
        "cv_scores = []\n",
        "mylist = list(range(0, 51))\n",
        "neighbors = list(filter(lambda x: x % 2 != 0, mylist))\n",
        "\n",
        "for k in tqdm(neighbors):\n",
        "    tmp = []\n",
        "    for train, cv in tscv.split(X_train):\n",
        "        knn = KNeighborsClassifier(n_neighbors=k)\n",
        "        knn.fit(X_train[train], y_train[train])\n",
        "        tmp.append(knn.score(X_train[cv], y_train[cv]) * 100)\n",
        "    tmp = np.array(tmp)\n",
        "    cv_scores.append(tmp.mean())"
      ],
      "execution_count": 0,
      "outputs": [
        {
          "output_type": "stream",
          "text": [
            "100%|██████████| 25/25 [17:26<00:00, 41.88s/it]\n"
          ],
          "name": "stderr"
        }
      ]
    },
    {
      "cell_type": "code",
      "metadata": {
        "id": "Wh0BJMteWBpo",
        "colab_type": "code",
        "colab": {}
      },
      "source": [
        "mse = [1 - x for x in cv_scores]\n",
        "best_k = neighbors[mse.index(min(mse))]"
      ],
      "execution_count": 0,
      "outputs": []
    },
    {
      "cell_type": "code",
      "metadata": {
        "id": "kDdVSNtYbsnS",
        "colab_type": "code",
        "outputId": "b17be05f-4474-4ebe-ab28-a4a43ea7fc35",
        "colab": {
          "base_uri": "https://localhost:8080/",
          "height": 421
        }
      },
      "source": [
        "plt.figure(figsize=(10,6))\n",
        "plt.plot(np.arange(1, neigh_near, 2), cv_scores)\n",
        "plt.xlabel(\"KNN\")\n",
        "plt.ylabel(\"Accuracy\")\n",
        "plt.title(\"Accuracy for different k values\")\n",
        "plt.show()\n",
        "print('The best k value is : %d' %best_k)"
      ],
      "execution_count": 0,
      "outputs": [
        {
          "output_type": "display_data",
          "data": {
            "image/png": "[encoded data removed]",
            "text/plain": [
              "<Figure size 720x432 with 1 Axes>"
            ]
          },
          "metadata": {
            "tags": []
          }
        },
        {
          "output_type": "stream",
          "text": [
            "The best k value is : 19\n"
          ],
          "name": "stdout"
        }
      ]
    },
    {
      "cell_type": "code",
      "metadata": {
        "id": "9SgjxreQby50",
        "colab_type": "code",
        "outputId": "10675c5a-5d9b-45b5-8336-14d6f7a1b224",
        "colab": {
          "base_uri": "https://localhost:8080/",
          "height": 34
        }
      },
      "source": [
        "knn=KNeighborsClassifier(n_neighbors=best_k)\n",
        "knn.fit(X_train,y_train)\n",
        "acc=knn.score(X_test,y_test)\n",
        "print(\"Accuracy using Bi-Gram: %0.2f%%\"%(acc*100))"
      ],
      "execution_count": 0,
      "outputs": [
        {
          "output_type": "stream",
          "text": [
            "Accuracy using Bi-Gram: 73.92%\n"
          ],
          "name": "stdout"
        }
      ]
    },
    {
      "cell_type": "markdown",
      "metadata": {
        "id": "PJFZ-8cycQhw",
        "colab_type": "text"
      },
      "source": [
        "**3.TFIDF**"
      ]
    },
    {
      "cell_type": "code",
      "metadata": {
        "id": "zhqF8NwVcSiM",
        "colab_type": "code",
        "outputId": "062f6091-b4bf-4ced-8fc3-62ece8e0b4b6",
        "colab": {
          "base_uri": "https://localhost:8080/",
          "height": 34
        }
      },
      "source": [
        "tfidf=TfidfVectorizer(ngram_range=(1,2))\n",
        "tfidf_vect=tfidf.fit_transform(Final_data['Cleaned_review'].values)\n",
        "tfidf_vect.shape"
      ],
      "execution_count": 30,
      "outputs": [
        {
          "output_type": "execute_result",
          "data": {
            "text/plain": [
              "(49575, 3213257)"
            ]
          },
          "metadata": {
            "tags": []
          },
          "execution_count": 30
        }
      ]
    },
    {
      "cell_type": "code",
      "metadata": {
        "id": "K8XZymi-de4P",
        "colab_type": "code",
        "colab": {}
      },
      "source": [
        "from sklearn import preprocessing\n",
        "from sklearn.model_selection import train_test_split\n",
        "tfidf_vect_norm=preprocessing.normalize(tfidf_vect)\n"
      ],
      "execution_count": 0,
      "outputs": []
    },
    {
      "cell_type": "code",
      "metadata": {
        "id": "hFRzL6tPPdgd",
        "colab_type": "code",
        "colab": {}
      },
      "source": [
        "X_train,X_test,y_train,y_test=train_test_split(tfidf_vect_norm,Final_data['sentiment'].values,test_size=0.3,shuffle=False)"
      ],
      "execution_count": 0,
      "outputs": []
    },
    {
      "cell_type": "code",
      "metadata": {
        "id": "rfsW38CCdrag",
        "colab_type": "code",
        "outputId": "dadba208-923b-46b6-d323-3487cc435754",
        "colab": {
          "base_uri": "https://localhost:8080/",
          "height": 470
        }
      },
      "source": [
        "from tqdm import tqdm\n",
        "neigh_near = 50\n",
        "tscv = TimeSeriesSplit(n_splits=10)\n",
        "cv_scores = []\n",
        "mylist = list(range(0, 51))\n",
        "neighbors = list(filter(lambda x: x % 2 != 0, mylist))\n",
        "\n",
        "for k in tqdm(neighbors):\n",
        "    tmp = []\n",
        "    for train, cv in tscv.split(X_train):\n",
        "        knn = KNeighborsClassifier(n_neighbors=k)\n",
        "        knn.fit(X_train[train], y_train[train])\n",
        "        tmp.append(knn.score(X_train[cv], y_train[cv]) * 100)\n",
        "    tmp = np.array(tmp)\n",
        "    cv_scores.append(tmp.mean())"
      ],
      "execution_count": 0,
      "outputs": [
        {
          "output_type": "stream",
          "text": [
            "\n",
            "  0%|          | 0/25 [00:00<?, ?it/s]\u001b[A\n",
            "  4%|▍         | 1/25 [00:44<17:37, 44.05s/it]\u001b[A\n",
            "  8%|▊         | 2/25 [01:29<17:02, 44.48s/it]\u001b[A\n",
            " 12%|█▏        | 3/25 [02:18<16:45, 45.70s/it]\u001b[A\n",
            " 16%|█▌        | 4/25 [03:06<16:19, 46.65s/it]\u001b[A\n",
            " 20%|██        | 5/25 [03:55<15:44, 47.23s/it]\u001b[A\n",
            " 24%|██▍       | 6/25 [04:44<15:04, 47.61s/it]\u001b[A\n",
            " 28%|██▊       | 7/25 [05:32<14:21, 47.85s/it]\u001b[A\n",
            " 32%|███▏      | 8/25 [06:20<13:35, 47.99s/it]\u001b[A\n",
            " 36%|███▌      | 9/25 [07:09<12:49, 48.09s/it]\u001b[A\n",
            " 40%|████      | 10/25 [07:57<12:02, 48.17s/it]\u001b[A\n",
            " 44%|████▍     | 11/25 [08:45<11:14, 48.17s/it]\u001b[A\n",
            " 48%|████▊     | 12/25 [09:33<10:24, 48.04s/it]\u001b[A\n",
            " 52%|█████▏    | 13/25 [10:21<09:36, 48.02s/it]\u001b[A\n",
            " 56%|█████▌    | 14/25 [11:11<08:55, 48.65s/it]\u001b[A\n",
            " 60%|██████    | 15/25 [11:59<08:05, 48.53s/it]\u001b[A\n",
            " 64%|██████▍   | 16/25 [12:47<07:15, 48.43s/it]\u001b[A\n",
            " 68%|██████▊   | 17/25 [13:36<06:27, 48.41s/it]\u001b[A\n",
            " 72%|███████▏  | 18/25 [14:24<05:39, 48.46s/it]\u001b[A\n",
            " 76%|███████▌  | 19/25 [15:13<04:50, 48.46s/it]\u001b[A\n",
            " 80%|████████  | 20/25 [16:01<04:02, 48.49s/it]\u001b[A\n",
            " 84%|████████▍ | 21/25 [16:50<03:14, 48.52s/it]\u001b[A\n",
            " 88%|████████▊ | 22/25 [17:38<02:25, 48.51s/it]\u001b[A\n",
            " 92%|█████████▏| 23/25 [18:27<01:36, 48.44s/it]\u001b[A\n",
            " 96%|█████████▌| 24/25 [19:15<00:48, 48.38s/it]\u001b[A\n",
            "100%|██████████| 25/25 [20:03<00:00, 48.15s/it]\n"
          ],
          "name": "stderr"
        }
      ]
    },
    {
      "cell_type": "code",
      "metadata": {
        "id": "22hRmLAjdyy0",
        "colab_type": "code",
        "colab": {}
      },
      "source": [
        "mse = [1 - x for x in cv_scores]\n",
        "best_k = neighbors[mse.index(min(mse))]"
      ],
      "execution_count": 0,
      "outputs": []
    },
    {
      "cell_type": "code",
      "metadata": {
        "id": "67S8fWpHh_ri",
        "colab_type": "code",
        "outputId": "e1aa3489-037d-40d3-b4bf-dc3793408af2",
        "colab": {
          "base_uri": "https://localhost:8080/",
          "height": 421
        }
      },
      "source": [
        "plt.figure(figsize=(10,6))\n",
        "plt.plot(np.arange(1, neigh_near, 2), cv_scores)\n",
        "plt.xlabel(\"KNN\")\n",
        "plt.ylabel(\"Accuracy\")\n",
        "plt.title(\"Accuracy for different k values\")\n",
        "plt.show()\n",
        "print('The best k value is : %d' %best_k)"
      ],
      "execution_count": 0,
      "outputs": [
        {
          "output_type": "display_data",
          "data": {
            "image/png": "[encoded data removed]",
            "text/plain": [
              "<Figure size 720x432 with 1 Axes>"
            ]
          },
          "metadata": {
            "tags": []
          }
        },
        {
          "output_type": "stream",
          "text": [
            "The best k value is : 49\n"
          ],
          "name": "stdout"
        }
      ]
    },
    {
      "cell_type": "code",
      "metadata": {
        "id": "dnOowzO1iDeX",
        "colab_type": "code",
        "colab": {}
      },
      "source": [
        "from sklearn.neighbors import KNeighborsClassifier\n",
        "knn=KNeighborsClassifier(n_neighbors=49)\n",
        "knn.fit(X_train,y_train)\n",
        "acc=knn.score(X_test,y_test)\n",
        "print(\"Accuracy using TFIDF: %0.2f%%\"%(acc*100))"
      ],
      "execution_count": 0,
      "outputs": []
    },
    {
      "cell_type": "code",
      "metadata": {
        "id": "OBL3XAfGmwEx",
        "colab_type": "code",
        "colab": {}
      },
      "source": [
        "pred_knn=knn.predict(X_test)"
      ],
      "execution_count": 0,
      "outputs": []
    },
    {
      "cell_type": "code",
      "metadata": {
        "id": "09OqamnSElE7",
        "colab_type": "code",
        "outputId": "7badd02d-9179-46e2-c3ce-95858154eafe",
        "colab": {
          "base_uri": "https://localhost:8080/",
          "height": 304
        }
      },
      "source": [
        "Acc_knn = {\n",
        "    'BOW':0.73,\n",
        "    'TF-IDF':0.82\n",
        "}\n",
        "\n",
        "pd.Series(Acc_knn).plot(kind='bar')\n",
        "plt.ylabel(\"Accuracy\")\n",
        "plt.ylim((.65,.93))\n",
        "plt.show()\n",
        "print(\"As We can see TF-IDF is giving better results \")"
      ],
      "execution_count": 0,
      "outputs": [
        {
          "output_type": "display_data",
          "data": {
            "image/png": "[encoded data removed]",
            "text/plain": [
              "<Figure size 432x288 with 1 Axes>"
            ]
          },
          "metadata": {
            "tags": []
          }
        },
        {
          "output_type": "stream",
          "text": [
            "As We can see TF-IDF is giving better results \n"
          ],
          "name": "stdout"
        }
      ]
    },
    {
      "cell_type": "markdown",
      "metadata": {
        "id": "gwfLBbs4N7hF",
        "colab_type": "text"
      },
      "source": [
        "**1.Logistic Regression**\n"
      ]
    },
    {
      "cell_type": "code",
      "metadata": {
        "id": "xUUkpshROAOG",
        "colab_type": "code",
        "colab": {}
      },
      "source": [
        "from sklearn.linear_model import LogisticRegression"
      ],
      "execution_count": 0,
      "outputs": []
    },
    {
      "cell_type": "code",
      "metadata": {
        "id": "k42xx8jROXZ5",
        "colab_type": "code",
        "colab": {}
      },
      "source": [
        "X_train,X_test,y_train,y_test=train_test_split(tfidf_vect_norm,Final_data['sentiment'].values,test_size=0.3,shuffle=False)"
      ],
      "execution_count": 0,
      "outputs": []
    },
    {
      "cell_type": "code",
      "metadata": {
        "id": "rHg0Wlwqbbml",
        "colab_type": "code",
        "outputId": "32bf284d-ad26-4109-fca0-d871cf822fd2",
        "colab": {
          "base_uri": "https://localhost:8080/",
          "height": 168
        }
      },
      "source": [
        "lr=LogisticRegression(C=100)\n",
        "lr.fit(X_train,y_train)\n",
        "pred_lr=lr.predict(X_test)\n",
        "acc=metrics.accuracy_score(y_test,pred_lr)"
      ],
      "execution_count": 45,
      "outputs": [
        {
          "output_type": "stream",
          "text": [
            "Accuracy using TFIDF: 91.08%\n"
          ],
          "name": "stdout"
        },
        {
          "output_type": "stream",
          "text": [
            "/usr/local/lib/python3.6/dist-packages/sklearn/linear_model/_logistic.py:940: ConvergenceWarning: lbfgs failed to converge (status=1):\n",
            "STOP: TOTAL NO. of ITERATIONS REACHED LIMIT.\n",
            "\n",
            "Increase the number of iterations (max_iter) or scale the data as shown in:\n",
            "    https://scikit-learn.org/stable/modules/preprocessing.html\n",
            "Please also refer to the documentation for alternative solver options:\n",
            "    https://scikit-learn.org/stable/modules/linear_model.html#logistic-regression\n",
            "  extra_warning_msg=_LOGISTIC_SOLVER_CONVERGENCE_MSG)\n"
          ],
          "name": "stderr"
        }
      ]
    },
    {
      "cell_type": "code",
      "metadata": {
        "id": "6GU1s8XPmhx7",
        "colab_type": "code",
        "colab": {
          "base_uri": "https://localhost:8080/",
          "height": 34
        },
        "outputId": "4e0307ae-352d-4cea-a1f4-064d6309af7b"
      },
      "source": [
        "print(\"Accuracy using TFIDF: %0.2f%%\"%(acc*100))"
      ],
      "execution_count": 46,
      "outputs": [
        {
          "output_type": "stream",
          "text": [
            "Accuracy using TFIDF: 91.08%\n"
          ],
          "name": "stdout"
        }
      ]
    },
    {
      "cell_type": "markdown",
      "metadata": {
        "id": "wZ4agbvTcGFJ",
        "colab_type": "text"
      },
      "source": [
        "**2.Decision Tree**"
      ]
    },
    {
      "cell_type": "code",
      "metadata": {
        "id": "lsUQHT6pcMF1",
        "colab_type": "code",
        "colab": {}
      },
      "source": [
        "from sklearn.tree import DecisionTreeClassifier"
      ],
      "execution_count": 0,
      "outputs": []
    },
    {
      "cell_type": "code",
      "metadata": {
        "id": "WbfcuH4wcx6O",
        "colab_type": "code",
        "colab": {}
      },
      "source": [
        "X_train,X_test,y_train,y_test=train_test_split(tfidf_vect_norm,Final_data['sentiment'].values,test_size=0.3,shuffle=False)"
      ],
      "execution_count": 0,
      "outputs": []
    },
    {
      "cell_type": "code",
      "metadata": {
        "id": "2t-QDioacyZE",
        "colab_type": "code",
        "outputId": "be76be56-2463-447d-ae2c-5d426ee26890",
        "colab": {
          "base_uri": "https://localhost:8080/",
          "height": 34
        }
      },
      "source": [
        "Dt = DecisionTreeClassifier(criterion = 'entropy', random_state = 0)\n",
        "Dt.fit(X_train, y_train)\n",
        "pred_dt=Dt.predict(X_test)\n",
        "acc=metrics.accuracy_score(y_test,pred_dt)\n"
      ],
      "execution_count": 49,
      "outputs": [
        {
          "output_type": "stream",
          "text": [
            "Accuracy using TFIDF: 72.14%\n"
          ],
          "name": "stdout"
        }
      ]
    },
    {
      "cell_type": "code",
      "metadata": {
        "id": "r1RJSB5-m3fa",
        "colab_type": "code",
        "colab": {
          "base_uri": "https://localhost:8080/",
          "height": 34
        },
        "outputId": "d0cdee1d-eea0-4ad6-98d4-bcf52c16dae4"
      },
      "source": [
        "print(\"Accuracy using TFIDF: %0.2f%%\"%(acc*100))"
      ],
      "execution_count": 50,
      "outputs": [
        {
          "output_type": "stream",
          "text": [
            "Accuracy using TFIDF: 72.14%\n"
          ],
          "name": "stdout"
        }
      ]
    },
    {
      "cell_type": "markdown",
      "metadata": {
        "id": "1of2KDXei32u",
        "colab_type": "text"
      },
      "source": [
        "**3.Random Forest**"
      ]
    },
    {
      "cell_type": "code",
      "metadata": {
        "colab_type": "code",
        "id": "pdISOu71Bqvj",
        "colab": {}
      },
      "source": [
        "from sklearn.ensemble import RandomForestClassifier\n",
        "X_train,X_test,y_train,y_test=train_test_split(tfidf_vect_norm,Final_data['sentiment'].values,test_size=0.3,shuffle=False)\n",
        "rf = RandomForestClassifier(n_estimators = 100, criterion = 'entropy', random_state = 0)\n",
        "rf.fit(X_train,y_train)\n",
        "pred_rf=rf.predict(X_test)\n",
        "acc=metrics.accuracy_score(y_test,pred_rf)"
      ],
      "execution_count": 0,
      "outputs": []
    },
    {
      "cell_type": "code",
      "metadata": {
        "id": "jGCeZAH9m66L",
        "colab_type": "code",
        "colab": {
          "base_uri": "https://localhost:8080/",
          "height": 34
        },
        "outputId": "4026ee4c-ccb8-461e-9764-40ea6f958ef4"
      },
      "source": [
        "print(\"Accuracy using TFIDF: %0.2f%%\"%(acc*100))"
      ],
      "execution_count": 33,
      "outputs": [
        {
          "output_type": "stream",
          "text": [
            "Accuracy using TFIDF: 86.04%\n"
          ],
          "name": "stdout"
        }
      ]
    },
    {
      "cell_type": "markdown",
      "metadata": {
        "id": "AKmTNsWstizr",
        "colab_type": "text"
      },
      "source": [
        "**MULTI NB**"
      ]
    },
    {
      "cell_type": "code",
      "metadata": {
        "id": "rQVgUySWt6kf",
        "colab_type": "code",
        "colab": {}
      },
      "source": [
        "from sklearn.naive_bayes import MultinomialNB\n",
        "nb=MultinomialNB()\n",
        "X_train,X_test,y_train,y_test=train_test_split(tfidf_vect_norm,Final_data['sentiment'].values,test_size=0.3,shuffle=False)"
      ],
      "execution_count": 0,
      "outputs": []
    },
    {
      "cell_type": "code",
      "metadata": {
        "id": "5l0veMOwtnIR",
        "colab_type": "code",
        "colab": {
          "base_uri": "https://localhost:8080/",
          "height": 34
        },
        "outputId": "4e5bf49f-f81b-4d12-be56-2471259bb137"
      },
      "source": [
        "nb.fit(X_train,y_train)\n",
        "pred=nb.predict(X_test)\n",
        "acc=metrics.accuracy_score(y_test,pred)\n",
        "print(acc)\n",
        "pred_nb=nb"
      ],
      "execution_count": 40,
      "outputs": [
        {
          "output_type": "stream",
          "text": [
            "0.8876487594970752\n"
          ],
          "name": "stdout"
        }
      ]
    },
    {
      "cell_type": "code",
      "metadata": {
        "id": "mxu50cQSnF2w",
        "colab_type": "code",
        "outputId": "8f15f731-9019-491b-e025-1666f79b2dfe",
        "colab": {
          "base_uri": "https://localhost:8080/",
          "height": 368
        }
      },
      "source": [
        "Acc_ = {\n",
        "    'KNN':0.82,\n",
        "    'Logistic Regression':0.91,\n",
        "    'Decision Tree':0.72,\n",
        "    'Random Forest':0.86,\n",
        "    'MultiNB':0.88\n",
        "}\n",
        "\n",
        "pd.Series(Acc_).plot(kind='bar')\n",
        "plt.ylabel(\"Accuracy\")\n",
        "plt.ylim((.65,.93))"
      ],
      "execution_count": 35,
      "outputs": [
        {
          "output_type": "execute_result",
          "data": {
            "text/plain": [
              "(0.65, 0.93)"
            ]
          },
          "metadata": {
            "tags": []
          },
          "execution_count": 35
        },
        {
          "output_type": "display_data",
          "data": {
            "image/png": "[encoded data removed]",
            "text/plain": [
              "<Figure size 432x288 with 1 Axes>"
            ]
          },
          "metadata": {
            "tags": [],
            "needs_background": "light"
          }
        }
      ]
    },
    {
      "cell_type": "markdown",
      "metadata": {
        "id": "LisG6fSaGCmo",
        "colab_type": "text"
      },
      "source": [
        "**Conclusion**"
      ]
    },
    {
      "cell_type": "markdown",
      "metadata": {
        "id": "THeZj-IwGOQu",
        "colab_type": "text"
      },
      "source": [
        "At the end we can conclude that the **TF-IDF** and **Logistic Regression** \n",
        "\n",
        "---\n",
        "\n",
        "Works Better for this Sentimental Analysis\n",
        "\n",
        "---\n",
        "\n"
      ]
    },
    {
      "cell_type": "markdown",
      "metadata": {
        "id": "3HE7WBFlGdzo",
        "colab_type": "text"
      },
      "source": [
        "**Refrences**"
      ]
    },
    {
      "cell_type": "markdown",
      "metadata": {
        "id": "YX1ExVWPGmWE",
        "colab_type": "text"
      },
      "source": [
        "1.   StackOver Flow\n",
        "2.   Geeks for Geeks\n",
        "3.   Kaggle\n",
        "\n"
      ]
    }
  ]
}